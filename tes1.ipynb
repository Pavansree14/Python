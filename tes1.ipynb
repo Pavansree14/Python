{
  "nbformat": 4,
  "nbformat_minor": 0,
  "metadata": {
    "colab": {
      "provenance": [],
      "mount_file_id": "https://github.com/Pavansree14/Python/blob/Pyspark_JSON_metadata_analysis/tes1.ipynb",
      "authorship_tag": "ABX9TyP0UM1K3yZ8wqiF/Zr0KWHO",
      "include_colab_link": true
    },
    "kernelspec": {
      "name": "python3",
      "display_name": "Python 3"
    },
    "language_info": {
      "name": "python"
    }
  },
  "cells": [
    {
      "cell_type": "markdown",
      "metadata": {
        "id": "view-in-github",
        "colab_type": "text"
      },
      "source": [
        "<a href=\"https://colab.research.google.com/github/Pavansree14/Python/blob/Pyspark_JSON_metadata_analysis/tes1.ipynb\" target=\"_parent\"><img src=\"https://colab.research.google.com/assets/colab-badge.svg\" alt=\"Open In Colab\"/></a>"
      ]
    },
    {
      "cell_type": "code",
      "execution_count": 1,
      "metadata": {
        "colab": {
          "base_uri": "https://localhost:8080/"
        },
        "id": "28jUoKovsIij",
        "outputId": "c791bd85-1533-469c-b827-29d8d2a57984"
      },
      "outputs": [
        {
          "output_type": "stream",
          "name": "stdout",
          "text": [
            "Collecting pyspark\n",
            "  Downloading pyspark-3.5.1.tar.gz (317.0 MB)\n",
            "\u001b[2K     \u001b[90m━━━━━━━━━━━━━━━━━━━━━━━━━━━━━━━━━━━━━━━━\u001b[0m \u001b[32m317.0/317.0 MB\u001b[0m \u001b[31m2.8 MB/s\u001b[0m eta \u001b[36m0:00:00\u001b[0m\n",
            "\u001b[?25h  Preparing metadata (setup.py) ... \u001b[?25l\u001b[?25hdone\n",
            "Requirement already satisfied: py4j==0.10.9.7 in /usr/local/lib/python3.10/dist-packages (from pyspark) (0.10.9.7)\n",
            "Building wheels for collected packages: pyspark\n",
            "  Building wheel for pyspark (setup.py) ... \u001b[?25l\u001b[?25hdone\n",
            "  Created wheel for pyspark: filename=pyspark-3.5.1-py2.py3-none-any.whl size=317488491 sha256=9ab21a4354cec0e9f3ac67c19796465105352f14a15ec3fbdd90cd3eab46ec0c\n",
            "  Stored in directory: /root/.cache/pip/wheels/80/1d/60/2c256ed38dddce2fdd93be545214a63e02fbd8d74fb0b7f3a6\n",
            "Successfully built pyspark\n",
            "Installing collected packages: pyspark\n",
            "Successfully installed pyspark-3.5.1\n"
          ]
        }
      ],
      "source": [
        "!pip3 install pyspark"
      ]
    },
    {
      "cell_type": "code",
      "source": [
        "from pyspark import SparkContext, SparkConf"
      ],
      "metadata": {
        "id": "7-JnQnzcw462"
      },
      "execution_count": 2,
      "outputs": []
    },
    {
      "cell_type": "code",
      "source": [
        "conf = SparkConf().setAppName(\"testApp1\").setMaster(\"local[*]\")\n",
        "sc = SparkContext(conf=conf)"
      ],
      "metadata": {
        "id": "kzw7zgcoxZCE"
      },
      "execution_count": 3,
      "outputs": []
    },
    {
      "cell_type": "code",
      "source": [
        "print(sc)"
      ],
      "metadata": {
        "colab": {
          "base_uri": "https://localhost:8080/"
        },
        "id": "Ry5e8lPNyQoU",
        "outputId": "bb8ce6d4-6182-4e29-b999-7624d21a1e67"
      },
      "execution_count": 4,
      "outputs": [
        {
          "output_type": "stream",
          "name": "stdout",
          "text": [
            "<SparkContext master=local[*] appName=testApp1>\n"
          ]
        }
      ]
    },
    {
      "cell_type": "code",
      "source": [
        "import random\n",
        "randomlist  = random.sample(range(0,40),10)\n",
        "print(randomlist)"
      ],
      "metadata": {
        "colab": {
          "base_uri": "https://localhost:8080/"
        },
        "id": "GhvqgmnyyVhg",
        "outputId": "0222dca4-a68a-4009-cdc2-62747ef70dcb"
      },
      "execution_count": null,
      "outputs": [
        {
          "output_type": "stream",
          "name": "stdout",
          "text": [
            "[8, 29, 25, 24, 3, 38, 26, 37, 22, 28]\n"
          ]
        }
      ]
    },
    {
      "cell_type": "code",
      "source": [
        "rdd1 = sc.parallelize(randomlist, 4)\n",
        "\n",
        "rdd1.collect()"
      ],
      "metadata": {
        "colab": {
          "base_uri": "https://localhost:8080/"
        },
        "id": "eSC_QUtT5s9d",
        "outputId": "ee004d10-eefe-4d4f-be2a-6c2018f30d19"
      },
      "execution_count": null,
      "outputs": [
        {
          "output_type": "execute_result",
          "data": {
            "text/plain": [
              "[8, 29, 25, 24, 3, 38, 26, 37, 22, 28]"
            ]
          },
          "metadata": {},
          "execution_count": 8
        }
      ]
    },
    {
      "cell_type": "code",
      "source": [
        "rdd1.getNumPartitions()"
      ],
      "metadata": {
        "colab": {
          "base_uri": "https://localhost:8080/"
        },
        "id": "MzYek_T58aY8",
        "outputId": "28b7353d-2db4-4427-cca8-53b4cf717c22"
      },
      "execution_count": null,
      "outputs": [
        {
          "output_type": "execute_result",
          "data": {
            "text/plain": [
              "4"
            ]
          },
          "metadata": {},
          "execution_count": 9
        }
      ]
    },
    {
      "cell_type": "code",
      "source": [
        "print(rdd1.glom().collect())"
      ],
      "metadata": {
        "colab": {
          "base_uri": "https://localhost:8080/"
        },
        "id": "xVsaZWEo8pPf",
        "outputId": "a4d18cdd-8701-414b-d3d6-3f736482898b"
      },
      "execution_count": null,
      "outputs": [
        {
          "output_type": "stream",
          "name": "stdout",
          "text": [
            "[[8, 29], [25, 24], [3, 38], [26, 37, 22, 28]]\n"
          ]
        }
      ]
    },
    {
      "cell_type": "code",
      "source": [
        "rdd_map = rdd1.map(lambda item: (item + 1)*3)\n",
        "rdd_map.collect()"
      ],
      "metadata": {
        "colab": {
          "base_uri": "https://localhost:8080/"
        },
        "id": "ihbrSY7B9FIR",
        "outputId": "b3ec1be0-abe7-44f4-ee57-9f354cacd6ac"
      },
      "execution_count": null,
      "outputs": [
        {
          "output_type": "execute_result",
          "data": {
            "text/plain": [
              "[27, 90, 78, 75, 12, 117, 81, 114, 69, 87]"
            ]
          },
          "metadata": {},
          "execution_count": 11
        }
      ]
    },
    {
      "cell_type": "code",
      "source": [
        "print(rdd_map.glom().collect())"
      ],
      "metadata": {
        "colab": {
          "base_uri": "https://localhost:8080/"
        },
        "id": "0GU2W5p0_1Ly",
        "outputId": "2a283fd8-a9d8-478e-af27-bc3f3ad462ae"
      },
      "execution_count": null,
      "outputs": [
        {
          "output_type": "stream",
          "name": "stdout",
          "text": [
            "[[27, 90], [78, 75], [12, 117], [81, 114, 69, 87]]\n"
          ]
        }
      ]
    },
    {
      "cell_type": "code",
      "source": [
        "rdd_filter = rdd1.filter(lambda x: x%3 == 0)\n",
        "rdd_filter.collect()"
      ],
      "metadata": {
        "colab": {
          "base_uri": "https://localhost:8080/"
        },
        "id": "aUwrIJFv_-Zu",
        "outputId": "5b14834d-687d-4d2f-8ced-2bd837a23f87"
      },
      "execution_count": null,
      "outputs": [
        {
          "output_type": "execute_result",
          "data": {
            "text/plain": [
              "[24, 3]"
            ]
          },
          "metadata": {},
          "execution_count": 13
        }
      ]
    },
    {
      "cell_type": "code",
      "source": [
        "(rdd_filter.glom().collect())"
      ],
      "metadata": {
        "colab": {
          "base_uri": "https://localhost:8080/"
        },
        "id": "TtabzIgFA7hF",
        "outputId": "37211b7e-adaa-498c-eed3-97e1e5c80bc9"
      },
      "execution_count": null,
      "outputs": [
        {
          "output_type": "execute_result",
          "data": {
            "text/plain": [
              "[[], [24], [3], []]"
            ]
          },
          "metadata": {},
          "execution_count": 14
        }
      ]
    },
    {
      "cell_type": "code",
      "source": [
        "#union\n",
        "print(rdd1.collect())\n",
        "\n",
        "rdd2 = sc.parallelize([14,20,28,30,24,86,32,22],2)\n",
        "rdd2.collect()\n",
        "rdd_union = rdd1.union(rdd2)\n",
        "print(rdd_union.collect())\n",
        "\n",
        "print(rdd_union.getNumPartitions())"
      ],
      "metadata": {
        "id": "_K5oeqKzBp3Q",
        "colab": {
          "base_uri": "https://localhost:8080/"
        },
        "outputId": "ea4f01cf-23a0-46a2-b50b-6d4fa66449ee"
      },
      "execution_count": null,
      "outputs": [
        {
          "output_type": "stream",
          "name": "stdout",
          "text": [
            "[8, 29, 25, 24, 3, 38, 26, 37, 22, 28]\n",
            "[8, 29, 25, 24, 3, 38, 26, 37, 22, 28, 14, 20, 28, 30, 24, 86, 32, 22]\n",
            "6\n"
          ]
        }
      ]
    },
    {
      "cell_type": "code",
      "source": [
        "#Intersection\n",
        "rdd_intersection = rdd1.intersection(rdd2)\n",
        "print(rdd_intersection.collect())\n",
        "print(rdd_intersection.getNumPartitions())\n",
        "rdd_intersection.glom().collect()"
      ],
      "metadata": {
        "colab": {
          "base_uri": "https://localhost:8080/"
        },
        "id": "CCoMkuAXQppa",
        "outputId": "2e7f2c4b-e72e-4ffd-caa5-70ecce4eb3a1"
      },
      "execution_count": null,
      "outputs": [
        {
          "output_type": "stream",
          "name": "stdout",
          "text": [
            "[24, 22, 28]\n",
            "6\n"
          ]
        },
        {
          "output_type": "execute_result",
          "data": {
            "text/plain": [
              "[[24], [], [], [], [22, 28], []]"
            ]
          },
          "metadata": {},
          "execution_count": 16
        }
      ]
    },
    {
      "cell_type": "code",
      "source": [
        "#find empty partitions\n",
        "counter = 0\n",
        "for item in rdd_intersection.glom().collect():\n",
        "    if len(item) == 0:\n",
        "      counter = counter + 1\n",
        "\n",
        "counter\n"
      ],
      "metadata": {
        "colab": {
          "base_uri": "https://localhost:8080/"
        },
        "id": "2IZnLfbdWQT8",
        "outputId": "d7e58a88-4870-4ef8-9bf1-78ec9e9f8503"
      },
      "execution_count": null,
      "outputs": [
        {
          "output_type": "execute_result",
          "data": {
            "text/plain": [
              "4"
            ]
          },
          "metadata": {},
          "execution_count": 17
        }
      ]
    },
    {
      "cell_type": "code",
      "source": [
        "#coalesce(num of partitions)--reduce the size of partitions\n",
        "rdd_intersection.coalesce(1).glom().collect()"
      ],
      "metadata": {
        "colab": {
          "base_uri": "https://localhost:8080/"
        },
        "id": "FgDHu46lXaA-",
        "outputId": "aa2f8084-bcce-4081-c319-8d0829366f1a"
      },
      "execution_count": null,
      "outputs": [
        {
          "output_type": "execute_result",
          "data": {
            "text/plain": [
              "[[24, 22, 28]]"
            ]
          },
          "metadata": {},
          "execution_count": 18
        }
      ]
    },
    {
      "cell_type": "code",
      "source": [
        "#takesample(withReplacement, num, [seed])\n",
        "rdd1.takeSample(False, 5)"
      ],
      "metadata": {
        "colab": {
          "base_uri": "https://localhost:8080/"
        },
        "id": "RTC-mdKuaaZX",
        "outputId": "74898757-6786-4bdd-b692-968ed1cd1c07"
      },
      "execution_count": null,
      "outputs": [
        {
          "output_type": "execute_result",
          "data": {
            "text/plain": [
              "[28, 37, 3, 24, 8]"
            ]
          },
          "metadata": {},
          "execution_count": 19
        }
      ]
    },
    {
      "cell_type": "code",
      "source": [
        "#takeordered(n, [ordering])\n",
        "print(rdd1.takeOrdered(5))\n",
        "print(rdd1.takeOrdered(5, key = lambda x: -x))"
      ],
      "metadata": {
        "id": "NfvxRucXeiFC",
        "outputId": "6b9c2b0c-38cf-4d81-d516-787e6b41ff90",
        "colab": {
          "base_uri": "https://localhost:8080/"
        }
      },
      "execution_count": null,
      "outputs": [
        {
          "output_type": "stream",
          "name": "stdout",
          "text": [
            "[3, 8, 22, 24, 25]\n",
            "[38, 37, 29, 28, 26]\n"
          ]
        }
      ]
    },
    {
      "cell_type": "code",
      "source": [
        "rdd2.glom().collect()"
      ],
      "metadata": {
        "id": "IbTnd5Qif4-o",
        "outputId": "99b3bf5e-d24f-4c55-ce9d-669575c1289e",
        "colab": {
          "base_uri": "https://localhost:8080/"
        }
      },
      "execution_count": null,
      "outputs": [
        {
          "output_type": "execute_result",
          "data": {
            "text/plain": [
              "[[14, 20, 28, 30], [24, 86, 32, 22]]"
            ]
          },
          "metadata": {},
          "execution_count": 21
        }
      ]
    },
    {
      "cell_type": "code",
      "source": [
        "#reduce by key\n",
        "rdd_rbk = sc.parallelize([(2,6),(7,5),(3,8),(6.8),(2,9),(5,3),(4,6),(6,9)], 2)\n",
        "\n",
        "print(rdd_rbk.glom().collect())\n"
      ],
      "metadata": {
        "id": "kvaCZl40Ow8B",
        "outputId": "bec5f544-9724-44e8-a4ba-cdb7278f40d0",
        "colab": {
          "base_uri": "https://localhost:8080/"
        }
      },
      "execution_count": null,
      "outputs": [
        {
          "output_type": "stream",
          "name": "stdout",
          "text": [
            "[[(2, 6), (7, 5), (3, 8), 6.8], [(2, 9), (5, 3), (4, 6), (6, 9)]]\n"
          ]
        }
      ]
    },
    {
      "cell_type": "code",
      "source": [
        "#reduce\n",
        "rdd1.reduce(lambda x,y: x-y)"
      ],
      "metadata": {
        "id": "43h2PcRLQ9wi",
        "outputId": "221e2475-f2d7-40c6-c000-f7ab18768183",
        "colab": {
          "base_uri": "https://localhost:8080/"
        }
      },
      "execution_count": null,
      "outputs": [
        {
          "output_type": "execute_result",
          "data": {
            "text/plain": [
              "74"
            ]
          },
          "metadata": {},
          "execution_count": 29
        }
      ]
    },
    {
      "cell_type": "code",
      "source": [],
      "metadata": {
        "id": "CLVDX6Fmqn-z"
      },
      "execution_count": null,
      "outputs": []
    },
    {
      "cell_type": "code",
      "source": [
        "from google.colab import drive\n",
        "drive.mount('/content/drive')"
      ],
      "metadata": {
        "id": "aFix6cFDpUMH",
        "outputId": "6d01292a-9fca-4f73-8f79-7c0a7280af2c",
        "colab": {
          "base_uri": "https://localhost:8080/"
        }
      },
      "execution_count": null,
      "outputs": [
        {
          "output_type": "stream",
          "name": "stdout",
          "text": [
            "Mounted at /content/drive\n"
          ]
        }
      ]
    },
    {
      "cell_type": "code",
      "source": [
        "# Read and Load Data to Spark\n",
        "import json\n",
        "\n",
        "rdd_json = sc.textFile(\"/content/drive/MyDrive/Colab Notebooks/arxiv-metadata-oai-snapshot.json\",100)\n",
        "rdd = rdd_json.map(lambda x: json.loads(x))\n",
        "rdd.persist()"
      ],
      "metadata": {
        "id": "xdp1KyZ_qUSy",
        "outputId": "7448f199-74ff-455d-c909-40c4ced5ea1e",
        "colab": {
          "base_uri": "https://localhost:8080/"
        }
      },
      "execution_count": null,
      "outputs": [
        {
          "output_type": "execute_result",
          "data": {
            "text/plain": [
              "PythonRDD[2] at RDD at PythonRDD.scala:53"
            ]
          },
          "metadata": {},
          "execution_count": 6
        }
      ]
    },
    {
      "cell_type": "markdown",
      "source": [
        "Query optimization\n",
        "catalyst query optimization\n",
        "Project tungsten."
      ],
      "metadata": {
        "id": "Jw07KUpowVGK"
      }
    },
    {
      "cell_type": "code",
      "source": [
        "#Count of elements\n",
        "rdd.count()"
      ],
      "metadata": {
        "id": "XehRkJROtsNQ",
        "outputId": "d7b23f7e-eec8-4ca9-e217-0faaad105e02",
        "colab": {
          "base_uri": "https://localhost:8080/"
        }
      },
      "execution_count": null,
      "outputs": [
        {
          "output_type": "execute_result",
          "data": {
            "text/plain": [
              "2011231"
            ]
          },
          "metadata": {},
          "execution_count": 7
        }
      ]
    },
    {
      "cell_type": "code",
      "source": [
        "#First two records\n",
        "rdd.take(2)"
      ],
      "metadata": {
        "id": "M4w1iQM1vNHX",
        "outputId": "ea314130-c96d-4ffc-d727-9ed828af78ed",
        "colab": {
          "base_uri": "https://localhost:8080/"
        }
      },
      "execution_count": null,
      "outputs": [
        {
          "output_type": "execute_result",
          "data": {
            "text/plain": [
              "[{'id': '0704.0001',\n",
              "  'submitter': 'Pavel Nadolsky',\n",
              "  'authors': \"C. Bal\\\\'azs, E. L. Berger, P. M. Nadolsky, C.-P. Yuan\",\n",
              "  'title': 'Calculation of prompt diphoton production cross sections at Tevatron and\\n  LHC energies',\n",
              "  'comments': '37 pages, 15 figures; published version',\n",
              "  'journal-ref': 'Phys.Rev.D76:013009,2007',\n",
              "  'doi': '10.1103/PhysRevD.76.013009',\n",
              "  'report-no': 'ANL-HEP-PR-07-12',\n",
              "  'categories': 'hep-ph',\n",
              "  'license': None,\n",
              "  'abstract': '  A fully differential calculation in perturbative quantum chromodynamics is\\npresented for the production of massive photon pairs at hadron colliders. All\\nnext-to-leading order perturbative contributions from quark-antiquark,\\ngluon-(anti)quark, and gluon-gluon subprocesses are included, as well as\\nall-orders resummation of initial-state gluon radiation valid at\\nnext-to-next-to-leading logarithmic accuracy. The region of phase space is\\nspecified in which the calculation is most reliable. Good agreement is\\ndemonstrated with data from the Fermilab Tevatron, and predictions are made for\\nmore detailed tests with CDF and DO data. Predictions are shown for\\ndistributions of diphoton pairs produced at the energy of the Large Hadron\\nCollider (LHC). Distributions of the diphoton pairs from the decay of a Higgs\\nboson are contrasted with those produced from QCD processes at the LHC, showing\\nthat enhanced sensitivity to the signal can be obtained with judicious\\nselection of events.\\n',\n",
              "  'versions': [{'version': 'v1', 'created': 'Mon, 2 Apr 2007 19:18:42 GMT'},\n",
              "   {'version': 'v2', 'created': 'Tue, 24 Jul 2007 20:10:27 GMT'}],\n",
              "  'update_date': '2008-11-26',\n",
              "  'authors_parsed': [['Balázs', 'C.', ''],\n",
              "   ['Berger', 'E. L.', ''],\n",
              "   ['Nadolsky', 'P. M.', ''],\n",
              "   ['Yuan', 'C. -P.', '']]},\n",
              " {'id': '0704.0002',\n",
              "  'submitter': 'Louis Theran',\n",
              "  'authors': 'Ileana Streinu and Louis Theran',\n",
              "  'title': 'Sparsity-certifying Graph Decompositions',\n",
              "  'comments': 'To appear in Graphs and Combinatorics',\n",
              "  'journal-ref': None,\n",
              "  'doi': None,\n",
              "  'report-no': None,\n",
              "  'categories': 'math.CO cs.CG',\n",
              "  'license': 'http://arxiv.org/licenses/nonexclusive-distrib/1.0/',\n",
              "  'abstract': '  We describe a new algorithm, the $(k,\\\\ell)$-pebble game with colors, and use\\nit obtain a characterization of the family of $(k,\\\\ell)$-sparse graphs and\\nalgorithmic solutions to a family of problems concerning tree decompositions of\\ngraphs. Special instances of sparse graphs appear in rigidity theory and have\\nreceived increased attention in recent years. In particular, our colored\\npebbles generalize and strengthen the previous results of Lee and Streinu and\\ngive a new proof of the Tutte-Nash-Williams characterization of arboricity. We\\nalso present a new decomposition that certifies sparsity based on the\\n$(k,\\\\ell)$-pebble game with colors. Our work also exposes connections between\\npebble game algorithms and previous sparse graph algorithms by Gabow, Gabow and\\nWestermann and Hendrickson.\\n',\n",
              "  'versions': [{'version': 'v1', 'created': 'Sat, 31 Mar 2007 02:26:18 GMT'},\n",
              "   {'version': 'v2', 'created': 'Sat, 13 Dec 2008 17:26:00 GMT'}],\n",
              "  'update_date': '2008-12-13',\n",
              "  'authors_parsed': [['Streinu', 'Ileana', ''], ['Theran', 'Louis', '']]}]"
            ]
          },
          "metadata": {},
          "execution_count": 15
        }
      ]
    },
    {
      "cell_type": "code",
      "source": [
        "# How to get all the distinct attributes\n",
        "rdd.flatMap(lambda x: x.keys()).distinct().collect()"
      ],
      "metadata": {
        "id": "CUb7tqupvjyv",
        "outputId": "6fbcc9a5-fd76-421e-f56b-8910d8bb0697",
        "colab": {
          "base_uri": "https://localhost:8080/"
        }
      },
      "execution_count": null,
      "outputs": [
        {
          "output_type": "execute_result",
          "data": {
            "text/plain": [
              "['authors',\n",
              " 'comments',\n",
              " 'title',\n",
              " 'id',\n",
              " 'journal-ref',\n",
              " 'versions',\n",
              " 'submitter',\n",
              " 'categories',\n",
              " 'update_date',\n",
              " 'authors_parsed',\n",
              " 'report-no',\n",
              " 'license',\n",
              " 'abstract',\n",
              " 'doi']"
            ]
          },
          "metadata": {},
          "execution_count": 18
        }
      ]
    },
    {
      "cell_type": "code",
      "source": [
        "#Get the name of the license\n",
        "rdd.map(lambda x: x[\"license\"]).distinct().collect()"
      ],
      "metadata": {
        "id": "u3RviiMcxWDf",
        "outputId": "531e5898-38f1-458f-d9ab-1c677b8bf83f",
        "colab": {
          "base_uri": "https://localhost:8080/"
        }
      },
      "execution_count": null,
      "outputs": [
        {
          "output_type": "execute_result",
          "data": {
            "text/plain": [
              "[None,\n",
              " 'http://creativecommons.org/licenses/publicdomain/',\n",
              " 'http://creativecommons.org/licenses/by-nc-nd/4.0/',\n",
              " 'http://creativecommons.org/licenses/by-nc-sa/4.0/',\n",
              " 'http://creativecommons.org/licenses/by-nc-sa/3.0/',\n",
              " 'http://creativecommons.org/licenses/by/3.0/',\n",
              " 'http://creativecommons.org/licenses/by/4.0/',\n",
              " 'http://creativecommons.org/publicdomain/zero/1.0/',\n",
              " 'http://arxiv.org/licenses/nonexclusive-distrib/1.0/',\n",
              " 'http://creativecommons.org/licenses/by-sa/4.0/']"
            ]
          },
          "metadata": {},
          "execution_count": 22
        }
      ]
    },
    {
      "cell_type": "code",
      "source": [
        "shortest_tittle_rdd = rdd.map(lambda x: x[\"title\"]).reduce(lambda x,y: x if x < y else y)\n",
        "longest_tittle_rdd = rdd.map(lambda x: x[\"title\"]).reduce(lambda x,y: x if x > y else y)\n",
        "\n",
        "print(\"the shortest: \", shortest_tittle_rdd)\n",
        "print(\"the longest: \", longest_tittle_rdd)\n"
      ],
      "metadata": {
        "id": "3gModUPqzyYH",
        "outputId": "b49f31ce-1d45-4996-88e5-0c34aea5fae1",
        "colab": {
          "base_uri": "https://localhost:8080/"
        }
      },
      "execution_count": null,
      "outputs": [
        {
          "output_type": "stream",
          "name": "stdout",
          "text": [
            "the shortest:  !-Graphs with Trivial Overlap are Context-Free\n",
            "the longest:  Weyl formula for the negative dissipative eigenvalues of Maxwell's\n",
            "  equations\n"
          ]
        }
      ]
    },
    {
      "cell_type": "code",
      "source": [
        "# Finding abbrevations with 5 or more letters in the abstract\n",
        "import re\n",
        "\n",
        "def get_abbrivations(line):\n",
        "  result = re.search(r\"\\(([A-Za-z][^_/\\\\<>]{5,})\\)\", line)\n",
        "  if result:\n",
        "      return result.group(1)"
      ],
      "metadata": {
        "id": "klLQwmRdZDJI"
      },
      "execution_count": null,
      "outputs": []
    },
    {
      "cell_type": "code",
      "source": [
        "rdd.filter(lambda x: get_abbrivations(x['abstract'])).count()"
      ],
      "metadata": {
        "id": "SO6498W2aIIg",
        "outputId": "8ee4cc58-1d62-499b-b636-f43d42375e83",
        "colab": {
          "base_uri": "https://localhost:8080/"
        }
      },
      "execution_count": null,
      "outputs": [
        {
          "output_type": "execute_result",
          "data": {
            "text/plain": [
              "702869"
            ]
          },
          "metadata": {},
          "execution_count": 10
        }
      ]
    },
    {
      "cell_type": "code",
      "source": [
        "rdd.filter(lambda x: get_abbrivations(x['abstract'])).take(5)"
      ],
      "metadata": {
        "id": "Ftfct0Jcazs6",
        "outputId": "213bf35c-929f-4b11-e04c-e596cbecbdb3",
        "colab": {
          "base_uri": "https://localhost:8080/"
        }
      },
      "execution_count": null,
      "outputs": [
        {
          "output_type": "execute_result",
          "data": {
            "text/plain": [
              "[{'id': '0704.0001',\n",
              "  'submitter': 'Pavel Nadolsky',\n",
              "  'authors': \"C. Bal\\\\'azs, E. L. Berger, P. M. Nadolsky, C.-P. Yuan\",\n",
              "  'title': 'Calculation of prompt diphoton production cross sections at Tevatron and\\n  LHC energies',\n",
              "  'comments': '37 pages, 15 figures; published version',\n",
              "  'journal-ref': 'Phys.Rev.D76:013009,2007',\n",
              "  'doi': '10.1103/PhysRevD.76.013009',\n",
              "  'report-no': 'ANL-HEP-PR-07-12',\n",
              "  'categories': 'hep-ph',\n",
              "  'license': None,\n",
              "  'abstract': '  A fully differential calculation in perturbative quantum chromodynamics is\\npresented for the production of massive photon pairs at hadron colliders. All\\nnext-to-leading order perturbative contributions from quark-antiquark,\\ngluon-(anti)quark, and gluon-gluon subprocesses are included, as well as\\nall-orders resummation of initial-state gluon radiation valid at\\nnext-to-next-to-leading logarithmic accuracy. The region of phase space is\\nspecified in which the calculation is most reliable. Good agreement is\\ndemonstrated with data from the Fermilab Tevatron, and predictions are made for\\nmore detailed tests with CDF and DO data. Predictions are shown for\\ndistributions of diphoton pairs produced at the energy of the Large Hadron\\nCollider (LHC). Distributions of the diphoton pairs from the decay of a Higgs\\nboson are contrasted with those produced from QCD processes at the LHC, showing\\nthat enhanced sensitivity to the signal can be obtained with judicious\\nselection of events.\\n',\n",
              "  'versions': [{'version': 'v1', 'created': 'Mon, 2 Apr 2007 19:18:42 GMT'},\n",
              "   {'version': 'v2', 'created': 'Tue, 24 Jul 2007 20:10:27 GMT'}],\n",
              "  'update_date': '2008-11-26',\n",
              "  'authors_parsed': [['Balázs', 'C.', ''],\n",
              "   ['Berger', 'E. L.', ''],\n",
              "   ['Nadolsky', 'P. M.', ''],\n",
              "   ['Yuan', 'C. -P.', '']]},\n",
              " {'id': '0704.0017',\n",
              "  'submitter': 'Nceba Mhlahlo',\n",
              "  'authors': 'Nceba Mhlahlo, David H. Buckley, Vikram S. Dhillon, Steven B. Potter,\\n  Brian Warner and Patric A. Woudt',\n",
              "  'title': 'Spectroscopic Observations of the Intermediate Polar EX Hydrae in\\n  Quiescence',\n",
              "  'comments': '10 pages, 11 figures (figures 3, 4, 7 and 8 at reduced resolution,\\n  originals available on request). Accepted for publication in Monthly Notices\\n  of the Royal Astronomical Society',\n",
              "  'journal-ref': 'Mon.Not.Roy.Astron.Soc.378:211-220,2007',\n",
              "  'doi': '10.1111/j.1365-2966.2007.11762.x',\n",
              "  'report-no': None,\n",
              "  'categories': 'astro-ph',\n",
              "  'license': None,\n",
              "  'abstract': '  Results from spectroscopic observations of the Intermediate Polar (IP) EX Hya\\nin quiescence during 1991 and 2001 are presented. Spin-modulated radial\\nvelocities consistent with an outer disc origin were detected for the first\\ntime in an IP. The spin pulsation was modulated with velocities near ~500-600\\nkm/s. These velocities are consistent with those of material circulating at the\\nouter edge of the accretion disc, suggesting corotation of the accretion\\ncurtain with material near the Roche lobe radius. Furthermore, spin Doppler\\ntomograms have revealed evidence of the accretion curtain emission extending\\nfrom velocities of ~500 km/s to ~1000 km/s. These findings have confirmed the\\ntheoretical model predictions of King & Wynn (1999), Belle et al. (2002) and\\nNorton et al. (2004) for EX Hya, which predict large accretion curtains that\\nextend to a distance close to the Roche lobe radius in this system. Evidence\\nfor overflow stream of material falling onto the magnetosphere was observed,\\nconfirming the result of Belle et al. (2005) that disc overflow in EX Hya is\\npresent during quiescence as well as outburst. It appears that the hbeta and\\nhgamma spin radial velocities originated from the rotation of the funnel at the\\nouter disc edge, while those of halpha were produced due to the flow of\\nmaterial along the field lines far from the white dwarf (narrow component) and\\nclose to the white dwarf (broad-base component), in agreement with the\\naccretion curtain model.\\n',\n",
              "  'versions': [{'version': 'v1', 'created': 'Sat, 31 Mar 2007 07:38:48 GMT'}],\n",
              "  'update_date': '2009-06-23',\n",
              "  'authors_parsed': [['Mhlahlo', 'Nceba', ''],\n",
              "   ['Buckley', 'David H.', ''],\n",
              "   ['Dhillon', 'Vikram S.', ''],\n",
              "   ['Potter', 'Steven B.', ''],\n",
              "   ['Warner', 'Brian', ''],\n",
              "   ['Woudt', 'Patric A.', '']]},\n",
              " {'id': '0704.0023',\n",
              "  'submitter': 'Maria Loukitcheva',\n",
              "  'authors': 'M. A. Loukitcheva, S. K. Solanki and S. White',\n",
              "  'title': 'ALMA as the ideal probe of the solar chromosphere',\n",
              "  'comments': '4 pages, 2 figures, to appear in the proceedings of the conference\\n  Science with ALMA: a new era for Astrophysics, Spain, 2006',\n",
              "  'journal-ref': 'Astrophys.Space Sci.313:197-200,2008',\n",
              "  'doi': '10.1007/s10509-007-9626-1',\n",
              "  'report-no': None,\n",
              "  'categories': 'astro-ph',\n",
              "  'license': None,\n",
              "  'abstract': '  The very nature of the solar chromosphere, its structuring and dynamics,\\nremains far from being properly understood, in spite of intensive research.\\nHere we point out the potential of chromospheric observations at millimeter\\nwavelengths to resolve this long-standing problem. Computations carried out\\nwith a sophisticated dynamic model of the solar chromosphere due to Carlsson\\nand Stein demonstrate that millimeter emission is extremely sensitive to\\ndynamic processes in the chromosphere and the appropriate wavelengths to look\\nfor dynamic signatures are in the range 0.8-5.0 mm. The model also suggests\\nthat high resolution observations at mm wavelengths, as will be provided by\\nALMA, will have the unique property of reacting to both the hot and the cool\\ngas, and thus will have the potential of distinguishing between rival models of\\nthe solar atmosphere. Thus, initial results obtained from the observations of\\nthe quiet Sun at 3.5 mm with the BIMA array (resolution of 12 arcsec) reveal\\nsignificant oscillations with amplitudes of 50-150 K and frequencies of 1.5-8\\nmHz with a tendency toward short-period oscillations in internetwork and longer\\nperiods in network regions. However higher spatial resolution, such as that\\nprovided by ALMA, is required for a clean separation between the features\\nwithin the solar atmosphere and for an adequate comparison with the output of\\nthe comprehensive dynamic simulations.\\n',\n",
              "  'versions': [{'version': 'v1', 'created': 'Sat, 31 Mar 2007 11:42:13 GMT'}],\n",
              "  'update_date': '2009-06-23',\n",
              "  'authors_parsed': [['Loukitcheva', 'M. A.', ''],\n",
              "   ['Solanki', 'S. K.', ''],\n",
              "   ['White', 'S.', '']]},\n",
              " {'id': '0704.0026',\n",
              "  'submitter': 'Robert P. C. de Marrais',\n",
              "  'authors': 'Robert P. C. de Marrais',\n",
              "  'title': 'Placeholder Substructures II: Meta-Fractals, Made of Box-Kites, Fill\\n  Infinite-Dimensional Skies',\n",
              "  'comments': '31 pp. Second of 3-part \"theorem/proof\" exposition of 78-slide\\n  Powerpoint from Wolfram Science\\'s NKS 2006, available at\\n  http://wolframscience.com/conference/2006/presentations/materials/demarrais.ppt\\n  [v2: small fixes][v3: Added new Appendix B and small number of corrections\\n  (pp. 7, 14, 20) RE: 2nd type of box-kite flow pattern.]',\n",
              "  'journal-ref': None,\n",
              "  'doi': None,\n",
              "  'report-no': None,\n",
              "  'categories': 'math.RA',\n",
              "  'license': None,\n",
              "  'abstract': '  Zero-divisors (ZDs) derived by Cayley-Dickson Process (CDP) from\\nN-dimensional hypercomplex numbers (N a power of 2, at least 4) can represent\\nsingularities and, as N approaches infinite, fractals -- and thereby,scale-free\\nnetworks. Any integer greater than 8 and not a power of 2 generates a\\nmeta-fractal or \"Sky\" when it is interpreted as the \"strut constant\" (S) of an\\nensemble of octahedral vertex figures called \"Box-Kites\" (the fundamental\\nbuilding blocks of ZDs). Remarkably simple bit-manipulation rules or \"recipes\"\\nprovide tools for transforming one fractal genus into others within the context\\nof Wolfram\\'s Class 4 complexity.\\n',\n",
              "  'versions': [{'version': 'v1', 'created': 'Sat, 31 Mar 2007 12:24:06 GMT'},\n",
              "   {'version': 'v2', 'created': 'Sun, 8 Apr 2007 14:07:19 GMT'},\n",
              "   {'version': 'v3', 'created': 'Thu, 22 Nov 2007 01:13:37 GMT'}],\n",
              "  'update_date': '2007-11-22',\n",
              "  'authors_parsed': [['de Marrais', 'Robert P. C.', '']]},\n",
              " {'id': '0704.0027',\n",
              "  'submitter': 'M. O. Goerbig',\n",
              "  'authors': \"M. O. Goerbig, J.-N. Fuchs, K. Kechedzhi, Vladimir I. Fal'ko\",\n",
              "  'title': 'Filling-Factor-Dependent Magnetophonon Resonance in Graphene',\n",
              "  'comments': '4 pages, 2 figures; mistakes due to an erroneous electron-phonon\\n  coupling constant have been corrected; mode splitting is larger than\\n  originally expected',\n",
              "  'journal-ref': 'Phys. Rev. Lett. 99, 087402 (2007)',\n",
              "  'doi': '10.1103/PhysRevLett.99.087402',\n",
              "  'report-no': None,\n",
              "  'categories': 'cond-mat.mes-hall',\n",
              "  'license': 'http://arxiv.org/licenses/nonexclusive-distrib/1.0/',\n",
              "  'abstract': '  We describe a peculiar fine structure acquired by the in-plane optical phonon\\nat the Gamma-point in graphene when it is brought into resonance with one of\\nthe inter-Landau-level transitions in this material. The effect is most\\npronounced when this lattice mode (associated with the G-band in graphene Raman\\nspectrum) is in resonance with inter-Landau-level transitions 0 -> (+,1) and\\n(-,1) -> 0, at a magnetic field B_0 ~ 30 T. It can be used to measure the\\nstrength of the electron-phonon coupling directly, and its filling-factor\\ndependence can be used experimentally to detect circularly polarized lattice\\nmodes.\\n',\n",
              "  'versions': [{'version': 'v1', 'created': 'Mon, 2 Apr 2007 19:17:14 GMT'},\n",
              "   {'version': 'v2', 'created': 'Mon, 9 Apr 2007 16:48:39 GMT'},\n",
              "   {'version': 'v3', 'created': 'Tue, 28 Aug 2007 13:21:50 GMT'},\n",
              "   {'version': 'v4', 'created': 'Thu, 24 Sep 2009 12:40:18 GMT'}],\n",
              "  'update_date': '2009-09-24',\n",
              "  'authors_parsed': [['Goerbig', 'M. O.', ''],\n",
              "   ['Fuchs', 'J. -N.', ''],\n",
              "   ['Kechedzhi', 'K.', ''],\n",
              "   [\"Fal'ko\", 'Vladimir I.', '']]}]"
            ]
          },
          "metadata": {},
          "execution_count": 11
        }
      ]
    },
    {
      "cell_type": "code",
      "source": [
        "# Get the number of archive records per month(update_date' atrribute)\n",
        "import datetime\n",
        "\n",
        "def extract_month(MonthIn):\n",
        "    d = datetime.datetime.strptime(MonthIn, \"%Y-%m-%d\")\n",
        "    return d.month\n",
        "\n",
        "extract_month('2003-12-13')"
      ],
      "metadata": {
        "id": "0C73zNPvdIcu",
        "outputId": "35862f33-8174-4d15-af0b-3825b0b5307f",
        "colab": {
          "base_uri": "https://localhost:8080/"
        }
      },
      "execution_count": null,
      "outputs": [
        {
          "output_type": "execute_result",
          "data": {
            "text/plain": [
              "12"
            ]
          },
          "metadata": {},
          "execution_count": 16
        }
      ]
    },
    {
      "cell_type": "code",
      "source": [
        "rdd.map(lambda x: (extract_month(x['update_date']),1)).reduceByKey(lambda x,y: x+y).collect()"
      ],
      "metadata": {
        "id": "0DdgXXPIeZIA",
        "outputId": "c149d754-ea1a-46c3-89ab-5c8e5771b48c",
        "colab": {
          "base_uri": "https://localhost:8080/"
        }
      },
      "execution_count": null,
      "outputs": [
        {
          "output_type": "execute_result",
          "data": {
            "text/plain": [
              "[(1, 134247),\n",
              " (2, 116948),\n",
              " (3, 126458),\n",
              " (4, 117126),\n",
              " (5, 296587),\n",
              " (6, 191746),\n",
              " (7, 122649),\n",
              " (8, 138469),\n",
              " (9, 138978),\n",
              " (10, 197755),\n",
              " (11, 297963),\n",
              " (12, 132305)]"
            ]
          },
          "metadata": {},
          "execution_count": 17
        }
      ]
    },
    {
      "cell_type": "code",
      "source": [
        "# Get the average number of pages\n",
        "\n",
        "#import re\n",
        "def get_Page(line):\n",
        "    search = re.findall('\\d+ pages', line)\n",
        "    if search:\n",
        "       return int(search[0].split(\" \")[0])\n",
        "    else:\n",
        "       return 0"
      ],
      "metadata": {
        "id": "854Cw0jPe28G"
      },
      "execution_count": null,
      "outputs": []
    },
    {
      "cell_type": "code",
      "source": [
        "rdd_average = rdd.map(lambda x: get_Page(x['comments'] if x['comments'] != None else \"None\"))\n",
        "\n",
        "#remove 0\n",
        "rdd_average = rdd_average.filter(lambda x: x!=0)\n",
        "\n",
        "average_counter = rdd_average.count()\n",
        "average_summation = rdd_average.reduce(lambda x,y: x+y)\n",
        "\n",
        "print(average_counter)\n",
        "print(average_summation)\n",
        "print(\"the average of pages is\", (average_summation/average_counter))"
      ],
      "metadata": {
        "id": "hyJhprWfiopu",
        "outputId": "9e3b66a9-7616-40d2-c5a4-7b5df7b7c0b3",
        "colab": {
          "base_uri": "https://localhost:8080/"
        }
      },
      "execution_count": null,
      "outputs": [
        {
          "output_type": "stream",
          "name": "stdout",
          "text": [
            "1184075\n",
            "21139516\n",
            "the average of pages is 17.85319004286046\n"
          ]
        }
      ]
    },
    {
      "cell_type": "markdown",
      "source": [
        "# **Processing Large structured data using RDD**"
      ],
      "metadata": {
        "id": "LB3HdTvR59nF"
      }
    },
    {
      "cell_type": "code",
      "source": [],
      "metadata": {
        "id": "LpDRYM8a6Hsk"
      },
      "execution_count": null,
      "outputs": []
    }
  ]
}