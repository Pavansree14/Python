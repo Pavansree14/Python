{
  "nbformat": 4,
  "nbformat_minor": 0,
  "metadata": {
    "colab": {
      "provenance": [],
      "mount_file_id": "https://github.com/Pavansree14/Python/blob/Pyspark_JSON_metadata_analysis/tes1.ipynb",
      "authorship_tag": "ABX9TyMHz4TC11v45GlLc+rv2G7O",
      "include_colab_link": true
    },
    "kernelspec": {
      "name": "python3",
      "display_name": "Python 3"
    },
    "language_info": {
      "name": "python"
    }
  },
  "cells": [
    {
      "cell_type": "markdown",
      "metadata": {
        "id": "view-in-github",
        "colab_type": "text"
      },
      "source": [
        "<a href=\"https://colab.research.google.com/github/Pavansree14/Python/blob/Pyspark_JSON_metadata_analysis/tes1.ipynb\" target=\"_parent\"><img src=\"https://colab.research.google.com/assets/colab-badge.svg\" alt=\"Open In Colab\"/></a>"
      ]
    },
    {
      "cell_type": "code",
      "execution_count": 29,
      "metadata": {
        "colab": {
          "base_uri": "https://localhost:8080/"
        },
        "id": "28jUoKovsIij",
        "outputId": "86e01217-2fd3-41ef-c5b2-28b32c310d85"
      },
      "outputs": [
        {
          "output_type": "stream",
          "name": "stdout",
          "text": [
            "Requirement already satisfied: pyspark in /usr/local/lib/python3.10/dist-packages (3.5.1)\n",
            "Requirement already satisfied: py4j==0.10.9.7 in /usr/local/lib/python3.10/dist-packages (from pyspark) (0.10.9.7)\n"
          ]
        }
      ],
      "source": [
        "!pip3 install pyspark"
      ]
    },
    {
      "cell_type": "code",
      "source": [
        "from pyspark import SparkContext, SparkConf"
      ],
      "metadata": {
        "id": "7-JnQnzcw462"
      },
      "execution_count": 30,
      "outputs": []
    },
    {
      "cell_type": "code",
      "source": [
        "conf = SparkConf().setAppName(\"KDDCup_PySpark\").setMaster(\"local[*]\")\n",
        "sc = SparkContext(conf=conf)"
      ],
      "metadata": {
        "id": "kzw7zgcoxZCE",
        "colab": {
          "base_uri": "https://localhost:8080/",
          "height": 200
        },
        "outputId": "44b05608-2fa8-4d13-b8ba-ed38823c3e21"
      },
      "execution_count": 31,
      "outputs": [
        {
          "output_type": "error",
          "ename": "ValueError",
          "evalue": "Cannot run multiple SparkContexts at once; existing SparkContext(app=KDDCup_PySpark, master=local[*]) created by __init__ at <ipython-input-4-bd35e2a7766c>:2 ",
          "traceback": [
            "\u001b[0;31m---------------------------------------------------------------------------\u001b[0m",
            "\u001b[0;31mValueError\u001b[0m                                Traceback (most recent call last)",
            "\u001b[0;32m<ipython-input-31-bd35e2a7766c>\u001b[0m in \u001b[0;36m<cell line: 2>\u001b[0;34m()\u001b[0m\n\u001b[1;32m      1\u001b[0m \u001b[0mconf\u001b[0m \u001b[0;34m=\u001b[0m \u001b[0mSparkConf\u001b[0m\u001b[0;34m(\u001b[0m\u001b[0;34m)\u001b[0m\u001b[0;34m.\u001b[0m\u001b[0msetAppName\u001b[0m\u001b[0;34m(\u001b[0m\u001b[0;34m\"KDDCup_PySpark\"\u001b[0m\u001b[0;34m)\u001b[0m\u001b[0;34m.\u001b[0m\u001b[0msetMaster\u001b[0m\u001b[0;34m(\u001b[0m\u001b[0;34m\"local[*]\"\u001b[0m\u001b[0;34m)\u001b[0m\u001b[0;34m\u001b[0m\u001b[0;34m\u001b[0m\u001b[0m\n\u001b[0;32m----> 2\u001b[0;31m \u001b[0msc\u001b[0m \u001b[0;34m=\u001b[0m \u001b[0mSparkContext\u001b[0m\u001b[0;34m(\u001b[0m\u001b[0mconf\u001b[0m\u001b[0;34m=\u001b[0m\u001b[0mconf\u001b[0m\u001b[0;34m)\u001b[0m\u001b[0;34m\u001b[0m\u001b[0;34m\u001b[0m\u001b[0m\n\u001b[0m",
            "\u001b[0;32m/usr/local/lib/python3.10/dist-packages/pyspark/context.py\u001b[0m in \u001b[0;36m__init__\u001b[0;34m(self, master, appName, sparkHome, pyFiles, environment, batchSize, serializer, conf, gateway, jsc, profiler_cls, udf_profiler_cls, memory_profiler_cls)\u001b[0m\n\u001b[1;32m    199\u001b[0m             )\n\u001b[1;32m    200\u001b[0m \u001b[0;34m\u001b[0m\u001b[0m\n\u001b[0;32m--> 201\u001b[0;31m         \u001b[0mSparkContext\u001b[0m\u001b[0;34m.\u001b[0m\u001b[0m_ensure_initialized\u001b[0m\u001b[0;34m(\u001b[0m\u001b[0mself\u001b[0m\u001b[0;34m,\u001b[0m \u001b[0mgateway\u001b[0m\u001b[0;34m=\u001b[0m\u001b[0mgateway\u001b[0m\u001b[0;34m,\u001b[0m \u001b[0mconf\u001b[0m\u001b[0;34m=\u001b[0m\u001b[0mconf\u001b[0m\u001b[0;34m)\u001b[0m\u001b[0;34m\u001b[0m\u001b[0;34m\u001b[0m\u001b[0m\n\u001b[0m\u001b[1;32m    202\u001b[0m         \u001b[0;32mtry\u001b[0m\u001b[0;34m:\u001b[0m\u001b[0;34m\u001b[0m\u001b[0;34m\u001b[0m\u001b[0m\n\u001b[1;32m    203\u001b[0m             self._do_init(\n",
            "\u001b[0;32m/usr/local/lib/python3.10/dist-packages/pyspark/context.py\u001b[0m in \u001b[0;36m_ensure_initialized\u001b[0;34m(cls, instance, gateway, conf)\u001b[0m\n\u001b[1;32m    447\u001b[0m \u001b[0;34m\u001b[0m\u001b[0m\n\u001b[1;32m    448\u001b[0m                     \u001b[0;31m# Raise error if there is already a running Spark context\u001b[0m\u001b[0;34m\u001b[0m\u001b[0;34m\u001b[0m\u001b[0m\n\u001b[0;32m--> 449\u001b[0;31m                     raise ValueError(\n\u001b[0m\u001b[1;32m    450\u001b[0m                         \u001b[0;34m\"Cannot run multiple SparkContexts at once; \"\u001b[0m\u001b[0;34m\u001b[0m\u001b[0;34m\u001b[0m\u001b[0m\n\u001b[1;32m    451\u001b[0m                         \u001b[0;34m\"existing SparkContext(app=%s, master=%s)\"\u001b[0m\u001b[0;34m\u001b[0m\u001b[0;34m\u001b[0m\u001b[0m\n",
            "\u001b[0;31mValueError\u001b[0m: Cannot run multiple SparkContexts at once; existing SparkContext(app=KDDCup_PySpark, master=local[*]) created by __init__ at <ipython-input-4-bd35e2a7766c>:2 "
          ]
        }
      ]
    },
    {
      "cell_type": "code",
      "source": [
        "print(sc)"
      ],
      "metadata": {
        "colab": {
          "base_uri": "https://localhost:8080/"
        },
        "id": "Ry5e8lPNyQoU",
        "outputId": "e66fac60-665f-4b84-f1a5-6790cec30e47"
      },
      "execution_count": 32,
      "outputs": [
        {
          "output_type": "stream",
          "name": "stdout",
          "text": [
            "<SparkContext master=local[*] appName=KDDCup_PySpark>\n"
          ]
        }
      ]
    },
    {
      "cell_type": "code",
      "source": [
        "import random\n",
        "randomlist  = random.sample(range(0,40),10)\n",
        "print(randomlist)"
      ],
      "metadata": {
        "colab": {
          "base_uri": "https://localhost:8080/"
        },
        "id": "GhvqgmnyyVhg",
        "outputId": "9b68808f-7526-4e79-f9f2-e1abf29629fe"
      },
      "execution_count": 6,
      "outputs": [
        {
          "output_type": "stream",
          "name": "stdout",
          "text": [
            "[15, 34, 10, 18, 39, 36, 26, 21, 3, 4]\n"
          ]
        }
      ]
    },
    {
      "cell_type": "code",
      "source": [
        "rdd1 = sc.parallelize(randomlist, 4)\n",
        "\n",
        "rdd1.collect()"
      ],
      "metadata": {
        "colab": {
          "base_uri": "https://localhost:8080/"
        },
        "id": "eSC_QUtT5s9d",
        "outputId": "0eb0caac-53c7-477a-908f-8871222a81f0"
      },
      "execution_count": 16,
      "outputs": [
        {
          "output_type": "execute_result",
          "data": {
            "text/plain": [
              "[15, 34, 10, 18, 39, 36, 26, 21, 3, 4]"
            ]
          },
          "metadata": {},
          "execution_count": 16
        }
      ]
    },
    {
      "cell_type": "code",
      "source": [
        "rdd1.getNumPartitions()"
      ],
      "metadata": {
        "colab": {
          "base_uri": "https://localhost:8080/"
        },
        "id": "MzYek_T58aY8",
        "outputId": "28b7353d-2db4-4427-cca8-53b4cf717c22"
      },
      "execution_count": null,
      "outputs": [
        {
          "output_type": "execute_result",
          "data": {
            "text/plain": [
              "4"
            ]
          },
          "metadata": {},
          "execution_count": 9
        }
      ]
    },
    {
      "cell_type": "code",
      "source": [
        "print(rdd1.glom().collect())"
      ],
      "metadata": {
        "colab": {
          "base_uri": "https://localhost:8080/"
        },
        "id": "xVsaZWEo8pPf",
        "outputId": "a4d18cdd-8701-414b-d3d6-3f736482898b"
      },
      "execution_count": null,
      "outputs": [
        {
          "output_type": "stream",
          "name": "stdout",
          "text": [
            "[[8, 29], [25, 24], [3, 38], [26, 37, 22, 28]]\n"
          ]
        }
      ]
    },
    {
      "cell_type": "code",
      "source": [
        "rdd_map = rdd1.map(lambda item: (item + 1)*3)\n",
        "rdd_map.collect()"
      ],
      "metadata": {
        "colab": {
          "base_uri": "https://localhost:8080/"
        },
        "id": "ihbrSY7B9FIR",
        "outputId": "b3ec1be0-abe7-44f4-ee57-9f354cacd6ac"
      },
      "execution_count": null,
      "outputs": [
        {
          "output_type": "execute_result",
          "data": {
            "text/plain": [
              "[27, 90, 78, 75, 12, 117, 81, 114, 69, 87]"
            ]
          },
          "metadata": {},
          "execution_count": 11
        }
      ]
    },
    {
      "cell_type": "code",
      "source": [
        "print(rdd_map.glom().collect())"
      ],
      "metadata": {
        "colab": {
          "base_uri": "https://localhost:8080/"
        },
        "id": "0GU2W5p0_1Ly",
        "outputId": "2a283fd8-a9d8-478e-af27-bc3f3ad462ae"
      },
      "execution_count": null,
      "outputs": [
        {
          "output_type": "stream",
          "name": "stdout",
          "text": [
            "[[27, 90], [78, 75], [12, 117], [81, 114, 69, 87]]\n"
          ]
        }
      ]
    },
    {
      "cell_type": "code",
      "source": [
        "rdd_filter = rdd1.filter(lambda x: x%3 == 0)\n",
        "rdd_filter.collect()"
      ],
      "metadata": {
        "colab": {
          "base_uri": "https://localhost:8080/"
        },
        "id": "aUwrIJFv_-Zu",
        "outputId": "5b14834d-687d-4d2f-8ced-2bd837a23f87"
      },
      "execution_count": null,
      "outputs": [
        {
          "output_type": "execute_result",
          "data": {
            "text/plain": [
              "[24, 3]"
            ]
          },
          "metadata": {},
          "execution_count": 13
        }
      ]
    },
    {
      "cell_type": "code",
      "source": [
        "(rdd_filter.glom().collect())"
      ],
      "metadata": {
        "colab": {
          "base_uri": "https://localhost:8080/"
        },
        "id": "TtabzIgFA7hF",
        "outputId": "37211b7e-adaa-498c-eed3-97e1e5c80bc9"
      },
      "execution_count": null,
      "outputs": [
        {
          "output_type": "execute_result",
          "data": {
            "text/plain": [
              "[[], [24], [3], []]"
            ]
          },
          "metadata": {},
          "execution_count": 14
        }
      ]
    },
    {
      "cell_type": "code",
      "source": [
        "#union\n",
        "print(rdd1.collect())\n",
        "\n",
        "rdd2 = sc.parallelize([14,20,28,30,24,86,32,22],2)\n",
        "rdd2.collect()\n",
        "rdd_union = rdd1.union(rdd2)\n",
        "print(rdd_union.collect())\n",
        "\n",
        "print(rdd_union.getNumPartitions())"
      ],
      "metadata": {
        "id": "_K5oeqKzBp3Q",
        "colab": {
          "base_uri": "https://localhost:8080/"
        },
        "outputId": "ea4f01cf-23a0-46a2-b50b-6d4fa66449ee"
      },
      "execution_count": null,
      "outputs": [
        {
          "output_type": "stream",
          "name": "stdout",
          "text": [
            "[8, 29, 25, 24, 3, 38, 26, 37, 22, 28]\n",
            "[8, 29, 25, 24, 3, 38, 26, 37, 22, 28, 14, 20, 28, 30, 24, 86, 32, 22]\n",
            "6\n"
          ]
        }
      ]
    },
    {
      "cell_type": "code",
      "source": [
        "#Intersection\n",
        "rdd_intersection = rdd1.intersection(rdd2)\n",
        "print(rdd_intersection.collect())\n",
        "print(rdd_intersection.getNumPartitions())\n",
        "rdd_intersection.glom().collect()"
      ],
      "metadata": {
        "colab": {
          "base_uri": "https://localhost:8080/"
        },
        "id": "CCoMkuAXQppa",
        "outputId": "2e7f2c4b-e72e-4ffd-caa5-70ecce4eb3a1"
      },
      "execution_count": null,
      "outputs": [
        {
          "output_type": "stream",
          "name": "stdout",
          "text": [
            "[24, 22, 28]\n",
            "6\n"
          ]
        },
        {
          "output_type": "execute_result",
          "data": {
            "text/plain": [
              "[[24], [], [], [], [22, 28], []]"
            ]
          },
          "metadata": {},
          "execution_count": 16
        }
      ]
    },
    {
      "cell_type": "code",
      "source": [
        "#find empty partitions\n",
        "counter = 0\n",
        "for item in rdd_intersection.glom().collect():\n",
        "    if len(item) == 0:\n",
        "      counter = counter + 1\n",
        "\n",
        "counter\n"
      ],
      "metadata": {
        "colab": {
          "base_uri": "https://localhost:8080/"
        },
        "id": "2IZnLfbdWQT8",
        "outputId": "d7e58a88-4870-4ef8-9bf1-78ec9e9f8503"
      },
      "execution_count": null,
      "outputs": [
        {
          "output_type": "execute_result",
          "data": {
            "text/plain": [
              "4"
            ]
          },
          "metadata": {},
          "execution_count": 17
        }
      ]
    },
    {
      "cell_type": "code",
      "source": [
        "#coalesce(num of partitions)--reduce the size of partitions\n",
        "rdd_intersection.coalesce(1).glom().collect()"
      ],
      "metadata": {
        "colab": {
          "base_uri": "https://localhost:8080/"
        },
        "id": "FgDHu46lXaA-",
        "outputId": "aa2f8084-bcce-4081-c319-8d0829366f1a"
      },
      "execution_count": null,
      "outputs": [
        {
          "output_type": "execute_result",
          "data": {
            "text/plain": [
              "[[24, 22, 28]]"
            ]
          },
          "metadata": {},
          "execution_count": 18
        }
      ]
    },
    {
      "cell_type": "code",
      "source": [
        "#takesample(withReplacement, num, [seed])\n",
        "rdd1.takeSample(False, 5)"
      ],
      "metadata": {
        "colab": {
          "base_uri": "https://localhost:8080/"
        },
        "id": "RTC-mdKuaaZX",
        "outputId": "74898757-6786-4bdd-b692-968ed1cd1c07"
      },
      "execution_count": null,
      "outputs": [
        {
          "output_type": "execute_result",
          "data": {
            "text/plain": [
              "[28, 37, 3, 24, 8]"
            ]
          },
          "metadata": {},
          "execution_count": 19
        }
      ]
    },
    {
      "cell_type": "code",
      "source": [
        "#takeordered(n, [ordering])\n",
        "print(rdd1.takeOrdered(5))\n",
        "print(rdd1.takeOrdered(5, key = lambda x: -x))"
      ],
      "metadata": {
        "id": "NfvxRucXeiFC",
        "outputId": "6b9c2b0c-38cf-4d81-d516-787e6b41ff90",
        "colab": {
          "base_uri": "https://localhost:8080/"
        }
      },
      "execution_count": null,
      "outputs": [
        {
          "output_type": "stream",
          "name": "stdout",
          "text": [
            "[3, 8, 22, 24, 25]\n",
            "[38, 37, 29, 28, 26]\n"
          ]
        }
      ]
    },
    {
      "cell_type": "code",
      "source": [
        "rdd2.glom().collect()"
      ],
      "metadata": {
        "id": "IbTnd5Qif4-o",
        "outputId": "99b3bf5e-d24f-4c55-ce9d-669575c1289e",
        "colab": {
          "base_uri": "https://localhost:8080/"
        }
      },
      "execution_count": null,
      "outputs": [
        {
          "output_type": "execute_result",
          "data": {
            "text/plain": [
              "[[14, 20, 28, 30], [24, 86, 32, 22]]"
            ]
          },
          "metadata": {},
          "execution_count": 21
        }
      ]
    },
    {
      "cell_type": "code",
      "source": [
        "#reduce by key\n",
        "rdd_rbk = sc.parallelize([(2,6),(7,5),(3,8),(6.8),(2,9),(5,3),(4,6),(6,9)], 2)\n",
        "\n",
        "print(rdd_rbk.glom().collect())\n"
      ],
      "metadata": {
        "id": "kvaCZl40Ow8B",
        "outputId": "bec5f544-9724-44e8-a4ba-cdb7278f40d0",
        "colab": {
          "base_uri": "https://localhost:8080/"
        }
      },
      "execution_count": null,
      "outputs": [
        {
          "output_type": "stream",
          "name": "stdout",
          "text": [
            "[[(2, 6), (7, 5), (3, 8), 6.8], [(2, 9), (5, 3), (4, 6), (6, 9)]]\n"
          ]
        }
      ]
    },
    {
      "cell_type": "code",
      "source": [
        "#reduce\n",
        "rdd1.reduce(lambda x,y: x-y)"
      ],
      "metadata": {
        "id": "43h2PcRLQ9wi",
        "outputId": "221e2475-f2d7-40c6-c000-f7ab18768183",
        "colab": {
          "base_uri": "https://localhost:8080/"
        }
      },
      "execution_count": null,
      "outputs": [
        {
          "output_type": "execute_result",
          "data": {
            "text/plain": [
              "74"
            ]
          },
          "metadata": {},
          "execution_count": 29
        }
      ]
    },
    {
      "cell_type": "code",
      "source": [],
      "metadata": {
        "id": "CLVDX6Fmqn-z"
      },
      "execution_count": null,
      "outputs": []
    },
    {
      "cell_type": "code",
      "source": [
        "from google.colab import drive\n",
        "drive.mount('/content/drive')"
      ],
      "metadata": {
        "id": "aFix6cFDpUMH",
        "outputId": "cd71a94f-9da8-446b-9a22-c2e9fdd93ab4",
        "colab": {
          "base_uri": "https://localhost:8080/"
        }
      },
      "execution_count": 17,
      "outputs": [
        {
          "output_type": "stream",
          "name": "stdout",
          "text": [
            "Drive already mounted at /content/drive; to attempt to forcibly remount, call drive.mount(\"/content/drive\", force_remount=True).\n"
          ]
        }
      ]
    },
    {
      "cell_type": "code",
      "source": [
        "# Read and Load Data to Spark\n",
        "import json\n",
        "\n",
        "rdd_json = sc.textFile(\"/content/drive/MyDrive/Colab Notebooks/arxiv-metadata-oai-snapshot.json\",100)\n",
        "rdd = rdd_json.map(lambda x: json.loads(x))\n",
        "rdd.persist()"
      ],
      "metadata": {
        "id": "xdp1KyZ_qUSy",
        "outputId": "7448f199-74ff-455d-c909-40c4ced5ea1e",
        "colab": {
          "base_uri": "https://localhost:8080/"
        }
      },
      "execution_count": null,
      "outputs": [
        {
          "output_type": "execute_result",
          "data": {
            "text/plain": [
              "PythonRDD[2] at RDD at PythonRDD.scala:53"
            ]
          },
          "metadata": {},
          "execution_count": 6
        }
      ]
    },
    {
      "cell_type": "markdown",
      "source": [
        "Query optimization\n",
        "catalyst query optimization\n",
        "Project tungsten."
      ],
      "metadata": {
        "id": "Jw07KUpowVGK"
      }
    },
    {
      "cell_type": "code",
      "source": [
        "#Count of elements\n",
        "rdd.count()"
      ],
      "metadata": {
        "id": "XehRkJROtsNQ",
        "outputId": "d7b23f7e-eec8-4ca9-e217-0faaad105e02",
        "colab": {
          "base_uri": "https://localhost:8080/"
        }
      },
      "execution_count": null,
      "outputs": [
        {
          "output_type": "execute_result",
          "data": {
            "text/plain": [
              "2011231"
            ]
          },
          "metadata": {},
          "execution_count": 7
        }
      ]
    },
    {
      "cell_type": "code",
      "source": [
        "#First two records\n",
        "rdd.take(2)"
      ],
      "metadata": {
        "id": "M4w1iQM1vNHX",
        "outputId": "ea314130-c96d-4ffc-d727-9ed828af78ed",
        "colab": {
          "base_uri": "https://localhost:8080/"
        }
      },
      "execution_count": null,
      "outputs": [
        {
          "output_type": "execute_result",
          "data": {
            "text/plain": [
              "[{'id': '0704.0001',\n",
              "  'submitter': 'Pavel Nadolsky',\n",
              "  'authors': \"C. Bal\\\\'azs, E. L. Berger, P. M. Nadolsky, C.-P. Yuan\",\n",
              "  'title': 'Calculation of prompt diphoton production cross sections at Tevatron and\\n  LHC energies',\n",
              "  'comments': '37 pages, 15 figures; published version',\n",
              "  'journal-ref': 'Phys.Rev.D76:013009,2007',\n",
              "  'doi': '10.1103/PhysRevD.76.013009',\n",
              "  'report-no': 'ANL-HEP-PR-07-12',\n",
              "  'categories': 'hep-ph',\n",
              "  'license': None,\n",
              "  'abstract': '  A fully differential calculation in perturbative quantum chromodynamics is\\npresented for the production of massive photon pairs at hadron colliders. All\\nnext-to-leading order perturbative contributions from quark-antiquark,\\ngluon-(anti)quark, and gluon-gluon subprocesses are included, as well as\\nall-orders resummation of initial-state gluon radiation valid at\\nnext-to-next-to-leading logarithmic accuracy. The region of phase space is\\nspecified in which the calculation is most reliable. Good agreement is\\ndemonstrated with data from the Fermilab Tevatron, and predictions are made for\\nmore detailed tests with CDF and DO data. Predictions are shown for\\ndistributions of diphoton pairs produced at the energy of the Large Hadron\\nCollider (LHC). Distributions of the diphoton pairs from the decay of a Higgs\\nboson are contrasted with those produced from QCD processes at the LHC, showing\\nthat enhanced sensitivity to the signal can be obtained with judicious\\nselection of events.\\n',\n",
              "  'versions': [{'version': 'v1', 'created': 'Mon, 2 Apr 2007 19:18:42 GMT'},\n",
              "   {'version': 'v2', 'created': 'Tue, 24 Jul 2007 20:10:27 GMT'}],\n",
              "  'update_date': '2008-11-26',\n",
              "  'authors_parsed': [['Balázs', 'C.', ''],\n",
              "   ['Berger', 'E. L.', ''],\n",
              "   ['Nadolsky', 'P. M.', ''],\n",
              "   ['Yuan', 'C. -P.', '']]},\n",
              " {'id': '0704.0002',\n",
              "  'submitter': 'Louis Theran',\n",
              "  'authors': 'Ileana Streinu and Louis Theran',\n",
              "  'title': 'Sparsity-certifying Graph Decompositions',\n",
              "  'comments': 'To appear in Graphs and Combinatorics',\n",
              "  'journal-ref': None,\n",
              "  'doi': None,\n",
              "  'report-no': None,\n",
              "  'categories': 'math.CO cs.CG',\n",
              "  'license': 'http://arxiv.org/licenses/nonexclusive-distrib/1.0/',\n",
              "  'abstract': '  We describe a new algorithm, the $(k,\\\\ell)$-pebble game with colors, and use\\nit obtain a characterization of the family of $(k,\\\\ell)$-sparse graphs and\\nalgorithmic solutions to a family of problems concerning tree decompositions of\\ngraphs. Special instances of sparse graphs appear in rigidity theory and have\\nreceived increased attention in recent years. In particular, our colored\\npebbles generalize and strengthen the previous results of Lee and Streinu and\\ngive a new proof of the Tutte-Nash-Williams characterization of arboricity. We\\nalso present a new decomposition that certifies sparsity based on the\\n$(k,\\\\ell)$-pebble game with colors. Our work also exposes connections between\\npebble game algorithms and previous sparse graph algorithms by Gabow, Gabow and\\nWestermann and Hendrickson.\\n',\n",
              "  'versions': [{'version': 'v1', 'created': 'Sat, 31 Mar 2007 02:26:18 GMT'},\n",
              "   {'version': 'v2', 'created': 'Sat, 13 Dec 2008 17:26:00 GMT'}],\n",
              "  'update_date': '2008-12-13',\n",
              "  'authors_parsed': [['Streinu', 'Ileana', ''], ['Theran', 'Louis', '']]}]"
            ]
          },
          "metadata": {},
          "execution_count": 15
        }
      ]
    },
    {
      "cell_type": "code",
      "source": [
        "# How to get all the distinct attributes\n",
        "rdd.flatMap(lambda x: x.keys()).distinct().collect()"
      ],
      "metadata": {
        "id": "CUb7tqupvjyv",
        "outputId": "6fbcc9a5-fd76-421e-f56b-8910d8bb0697",
        "colab": {
          "base_uri": "https://localhost:8080/"
        }
      },
      "execution_count": null,
      "outputs": [
        {
          "output_type": "execute_result",
          "data": {
            "text/plain": [
              "['authors',\n",
              " 'comments',\n",
              " 'title',\n",
              " 'id',\n",
              " 'journal-ref',\n",
              " 'versions',\n",
              " 'submitter',\n",
              " 'categories',\n",
              " 'update_date',\n",
              " 'authors_parsed',\n",
              " 'report-no',\n",
              " 'license',\n",
              " 'abstract',\n",
              " 'doi']"
            ]
          },
          "metadata": {},
          "execution_count": 18
        }
      ]
    },
    {
      "cell_type": "code",
      "source": [
        "#Get the name of the license\n",
        "rdd.map(lambda x: x[\"license\"]).distinct().collect()"
      ],
      "metadata": {
        "id": "u3RviiMcxWDf",
        "outputId": "531e5898-38f1-458f-d9ab-1c677b8bf83f",
        "colab": {
          "base_uri": "https://localhost:8080/"
        }
      },
      "execution_count": null,
      "outputs": [
        {
          "output_type": "execute_result",
          "data": {
            "text/plain": [
              "[None,\n",
              " 'http://creativecommons.org/licenses/publicdomain/',\n",
              " 'http://creativecommons.org/licenses/by-nc-nd/4.0/',\n",
              " 'http://creativecommons.org/licenses/by-nc-sa/4.0/',\n",
              " 'http://creativecommons.org/licenses/by-nc-sa/3.0/',\n",
              " 'http://creativecommons.org/licenses/by/3.0/',\n",
              " 'http://creativecommons.org/licenses/by/4.0/',\n",
              " 'http://creativecommons.org/publicdomain/zero/1.0/',\n",
              " 'http://arxiv.org/licenses/nonexclusive-distrib/1.0/',\n",
              " 'http://creativecommons.org/licenses/by-sa/4.0/']"
            ]
          },
          "metadata": {},
          "execution_count": 22
        }
      ]
    },
    {
      "cell_type": "code",
      "source": [
        "shortest_tittle_rdd = rdd.map(lambda x: x[\"title\"]).reduce(lambda x,y: x if x < y else y)\n",
        "longest_tittle_rdd = rdd.map(lambda x: x[\"title\"]).reduce(lambda x,y: x if x > y else y)\n",
        "\n",
        "print(\"the shortest: \", shortest_tittle_rdd)\n",
        "print(\"the longest: \", longest_tittle_rdd)\n"
      ],
      "metadata": {
        "id": "3gModUPqzyYH",
        "outputId": "b49f31ce-1d45-4996-88e5-0c34aea5fae1",
        "colab": {
          "base_uri": "https://localhost:8080/"
        }
      },
      "execution_count": null,
      "outputs": [
        {
          "output_type": "stream",
          "name": "stdout",
          "text": [
            "the shortest:  !-Graphs with Trivial Overlap are Context-Free\n",
            "the longest:  Weyl formula for the negative dissipative eigenvalues of Maxwell's\n",
            "  equations\n"
          ]
        }
      ]
    },
    {
      "cell_type": "code",
      "source": [
        "# Finding abbrevations with 5 or more letters in the abstract\n",
        "import re\n",
        "\n",
        "def get_abbrivations(line):\n",
        "  result = re.search(r\"\\(([A-Za-z][^_/\\\\<>]{5,})\\)\", line)\n",
        "  if result:\n",
        "      return result.group(1)"
      ],
      "metadata": {
        "id": "klLQwmRdZDJI"
      },
      "execution_count": null,
      "outputs": []
    },
    {
      "cell_type": "code",
      "source": [
        "rdd.filter(lambda x: get_abbrivations(x['abstract'])).count()"
      ],
      "metadata": {
        "id": "SO6498W2aIIg",
        "outputId": "8ee4cc58-1d62-499b-b636-f43d42375e83",
        "colab": {
          "base_uri": "https://localhost:8080/"
        }
      },
      "execution_count": null,
      "outputs": [
        {
          "output_type": "execute_result",
          "data": {
            "text/plain": [
              "702869"
            ]
          },
          "metadata": {},
          "execution_count": 10
        }
      ]
    },
    {
      "cell_type": "code",
      "source": [
        "rdd.filter(lambda x: get_abbrivations(x['abstract'])).take(5)"
      ],
      "metadata": {
        "id": "Ftfct0Jcazs6",
        "outputId": "213bf35c-929f-4b11-e04c-e596cbecbdb3",
        "colab": {
          "base_uri": "https://localhost:8080/"
        }
      },
      "execution_count": null,
      "outputs": [
        {
          "output_type": "execute_result",
          "data": {
            "text/plain": [
              "[{'id': '0704.0001',\n",
              "  'submitter': 'Pavel Nadolsky',\n",
              "  'authors': \"C. Bal\\\\'azs, E. L. Berger, P. M. Nadolsky, C.-P. Yuan\",\n",
              "  'title': 'Calculation of prompt diphoton production cross sections at Tevatron and\\n  LHC energies',\n",
              "  'comments': '37 pages, 15 figures; published version',\n",
              "  'journal-ref': 'Phys.Rev.D76:013009,2007',\n",
              "  'doi': '10.1103/PhysRevD.76.013009',\n",
              "  'report-no': 'ANL-HEP-PR-07-12',\n",
              "  'categories': 'hep-ph',\n",
              "  'license': None,\n",
              "  'abstract': '  A fully differential calculation in perturbative quantum chromodynamics is\\npresented for the production of massive photon pairs at hadron colliders. All\\nnext-to-leading order perturbative contributions from quark-antiquark,\\ngluon-(anti)quark, and gluon-gluon subprocesses are included, as well as\\nall-orders resummation of initial-state gluon radiation valid at\\nnext-to-next-to-leading logarithmic accuracy. The region of phase space is\\nspecified in which the calculation is most reliable. Good agreement is\\ndemonstrated with data from the Fermilab Tevatron, and predictions are made for\\nmore detailed tests with CDF and DO data. Predictions are shown for\\ndistributions of diphoton pairs produced at the energy of the Large Hadron\\nCollider (LHC). Distributions of the diphoton pairs from the decay of a Higgs\\nboson are contrasted with those produced from QCD processes at the LHC, showing\\nthat enhanced sensitivity to the signal can be obtained with judicious\\nselection of events.\\n',\n",
              "  'versions': [{'version': 'v1', 'created': 'Mon, 2 Apr 2007 19:18:42 GMT'},\n",
              "   {'version': 'v2', 'created': 'Tue, 24 Jul 2007 20:10:27 GMT'}],\n",
              "  'update_date': '2008-11-26',\n",
              "  'authors_parsed': [['Balázs', 'C.', ''],\n",
              "   ['Berger', 'E. L.', ''],\n",
              "   ['Nadolsky', 'P. M.', ''],\n",
              "   ['Yuan', 'C. -P.', '']]},\n",
              " {'id': '0704.0017',\n",
              "  'submitter': 'Nceba Mhlahlo',\n",
              "  'authors': 'Nceba Mhlahlo, David H. Buckley, Vikram S. Dhillon, Steven B. Potter,\\n  Brian Warner and Patric A. Woudt',\n",
              "  'title': 'Spectroscopic Observations of the Intermediate Polar EX Hydrae in\\n  Quiescence',\n",
              "  'comments': '10 pages, 11 figures (figures 3, 4, 7 and 8 at reduced resolution,\\n  originals available on request). Accepted for publication in Monthly Notices\\n  of the Royal Astronomical Society',\n",
              "  'journal-ref': 'Mon.Not.Roy.Astron.Soc.378:211-220,2007',\n",
              "  'doi': '10.1111/j.1365-2966.2007.11762.x',\n",
              "  'report-no': None,\n",
              "  'categories': 'astro-ph',\n",
              "  'license': None,\n",
              "  'abstract': '  Results from spectroscopic observations of the Intermediate Polar (IP) EX Hya\\nin quiescence during 1991 and 2001 are presented. Spin-modulated radial\\nvelocities consistent with an outer disc origin were detected for the first\\ntime in an IP. The spin pulsation was modulated with velocities near ~500-600\\nkm/s. These velocities are consistent with those of material circulating at the\\nouter edge of the accretion disc, suggesting corotation of the accretion\\ncurtain with material near the Roche lobe radius. Furthermore, spin Doppler\\ntomograms have revealed evidence of the accretion curtain emission extending\\nfrom velocities of ~500 km/s to ~1000 km/s. These findings have confirmed the\\ntheoretical model predictions of King & Wynn (1999), Belle et al. (2002) and\\nNorton et al. (2004) for EX Hya, which predict large accretion curtains that\\nextend to a distance close to the Roche lobe radius in this system. Evidence\\nfor overflow stream of material falling onto the magnetosphere was observed,\\nconfirming the result of Belle et al. (2005) that disc overflow in EX Hya is\\npresent during quiescence as well as outburst. It appears that the hbeta and\\nhgamma spin radial velocities originated from the rotation of the funnel at the\\nouter disc edge, while those of halpha were produced due to the flow of\\nmaterial along the field lines far from the white dwarf (narrow component) and\\nclose to the white dwarf (broad-base component), in agreement with the\\naccretion curtain model.\\n',\n",
              "  'versions': [{'version': 'v1', 'created': 'Sat, 31 Mar 2007 07:38:48 GMT'}],\n",
              "  'update_date': '2009-06-23',\n",
              "  'authors_parsed': [['Mhlahlo', 'Nceba', ''],\n",
              "   ['Buckley', 'David H.', ''],\n",
              "   ['Dhillon', 'Vikram S.', ''],\n",
              "   ['Potter', 'Steven B.', ''],\n",
              "   ['Warner', 'Brian', ''],\n",
              "   ['Woudt', 'Patric A.', '']]},\n",
              " {'id': '0704.0023',\n",
              "  'submitter': 'Maria Loukitcheva',\n",
              "  'authors': 'M. A. Loukitcheva, S. K. Solanki and S. White',\n",
              "  'title': 'ALMA as the ideal probe of the solar chromosphere',\n",
              "  'comments': '4 pages, 2 figures, to appear in the proceedings of the conference\\n  Science with ALMA: a new era for Astrophysics, Spain, 2006',\n",
              "  'journal-ref': 'Astrophys.Space Sci.313:197-200,2008',\n",
              "  'doi': '10.1007/s10509-007-9626-1',\n",
              "  'report-no': None,\n",
              "  'categories': 'astro-ph',\n",
              "  'license': None,\n",
              "  'abstract': '  The very nature of the solar chromosphere, its structuring and dynamics,\\nremains far from being properly understood, in spite of intensive research.\\nHere we point out the potential of chromospheric observations at millimeter\\nwavelengths to resolve this long-standing problem. Computations carried out\\nwith a sophisticated dynamic model of the solar chromosphere due to Carlsson\\nand Stein demonstrate that millimeter emission is extremely sensitive to\\ndynamic processes in the chromosphere and the appropriate wavelengths to look\\nfor dynamic signatures are in the range 0.8-5.0 mm. The model also suggests\\nthat high resolution observations at mm wavelengths, as will be provided by\\nALMA, will have the unique property of reacting to both the hot and the cool\\ngas, and thus will have the potential of distinguishing between rival models of\\nthe solar atmosphere. Thus, initial results obtained from the observations of\\nthe quiet Sun at 3.5 mm with the BIMA array (resolution of 12 arcsec) reveal\\nsignificant oscillations with amplitudes of 50-150 K and frequencies of 1.5-8\\nmHz with a tendency toward short-period oscillations in internetwork and longer\\nperiods in network regions. However higher spatial resolution, such as that\\nprovided by ALMA, is required for a clean separation between the features\\nwithin the solar atmosphere and for an adequate comparison with the output of\\nthe comprehensive dynamic simulations.\\n',\n",
              "  'versions': [{'version': 'v1', 'created': 'Sat, 31 Mar 2007 11:42:13 GMT'}],\n",
              "  'update_date': '2009-06-23',\n",
              "  'authors_parsed': [['Loukitcheva', 'M. A.', ''],\n",
              "   ['Solanki', 'S. K.', ''],\n",
              "   ['White', 'S.', '']]},\n",
              " {'id': '0704.0026',\n",
              "  'submitter': 'Robert P. C. de Marrais',\n",
              "  'authors': 'Robert P. C. de Marrais',\n",
              "  'title': 'Placeholder Substructures II: Meta-Fractals, Made of Box-Kites, Fill\\n  Infinite-Dimensional Skies',\n",
              "  'comments': '31 pp. Second of 3-part \"theorem/proof\" exposition of 78-slide\\n  Powerpoint from Wolfram Science\\'s NKS 2006, available at\\n  http://wolframscience.com/conference/2006/presentations/materials/demarrais.ppt\\n  [v2: small fixes][v3: Added new Appendix B and small number of corrections\\n  (pp. 7, 14, 20) RE: 2nd type of box-kite flow pattern.]',\n",
              "  'journal-ref': None,\n",
              "  'doi': None,\n",
              "  'report-no': None,\n",
              "  'categories': 'math.RA',\n",
              "  'license': None,\n",
              "  'abstract': '  Zero-divisors (ZDs) derived by Cayley-Dickson Process (CDP) from\\nN-dimensional hypercomplex numbers (N a power of 2, at least 4) can represent\\nsingularities and, as N approaches infinite, fractals -- and thereby,scale-free\\nnetworks. Any integer greater than 8 and not a power of 2 generates a\\nmeta-fractal or \"Sky\" when it is interpreted as the \"strut constant\" (S) of an\\nensemble of octahedral vertex figures called \"Box-Kites\" (the fundamental\\nbuilding blocks of ZDs). Remarkably simple bit-manipulation rules or \"recipes\"\\nprovide tools for transforming one fractal genus into others within the context\\nof Wolfram\\'s Class 4 complexity.\\n',\n",
              "  'versions': [{'version': 'v1', 'created': 'Sat, 31 Mar 2007 12:24:06 GMT'},\n",
              "   {'version': 'v2', 'created': 'Sun, 8 Apr 2007 14:07:19 GMT'},\n",
              "   {'version': 'v3', 'created': 'Thu, 22 Nov 2007 01:13:37 GMT'}],\n",
              "  'update_date': '2007-11-22',\n",
              "  'authors_parsed': [['de Marrais', 'Robert P. C.', '']]},\n",
              " {'id': '0704.0027',\n",
              "  'submitter': 'M. O. Goerbig',\n",
              "  'authors': \"M. O. Goerbig, J.-N. Fuchs, K. Kechedzhi, Vladimir I. Fal'ko\",\n",
              "  'title': 'Filling-Factor-Dependent Magnetophonon Resonance in Graphene',\n",
              "  'comments': '4 pages, 2 figures; mistakes due to an erroneous electron-phonon\\n  coupling constant have been corrected; mode splitting is larger than\\n  originally expected',\n",
              "  'journal-ref': 'Phys. Rev. Lett. 99, 087402 (2007)',\n",
              "  'doi': '10.1103/PhysRevLett.99.087402',\n",
              "  'report-no': None,\n",
              "  'categories': 'cond-mat.mes-hall',\n",
              "  'license': 'http://arxiv.org/licenses/nonexclusive-distrib/1.0/',\n",
              "  'abstract': '  We describe a peculiar fine structure acquired by the in-plane optical phonon\\nat the Gamma-point in graphene when it is brought into resonance with one of\\nthe inter-Landau-level transitions in this material. The effect is most\\npronounced when this lattice mode (associated with the G-band in graphene Raman\\nspectrum) is in resonance with inter-Landau-level transitions 0 -> (+,1) and\\n(-,1) -> 0, at a magnetic field B_0 ~ 30 T. It can be used to measure the\\nstrength of the electron-phonon coupling directly, and its filling-factor\\ndependence can be used experimentally to detect circularly polarized lattice\\nmodes.\\n',\n",
              "  'versions': [{'version': 'v1', 'created': 'Mon, 2 Apr 2007 19:17:14 GMT'},\n",
              "   {'version': 'v2', 'created': 'Mon, 9 Apr 2007 16:48:39 GMT'},\n",
              "   {'version': 'v3', 'created': 'Tue, 28 Aug 2007 13:21:50 GMT'},\n",
              "   {'version': 'v4', 'created': 'Thu, 24 Sep 2009 12:40:18 GMT'}],\n",
              "  'update_date': '2009-09-24',\n",
              "  'authors_parsed': [['Goerbig', 'M. O.', ''],\n",
              "   ['Fuchs', 'J. -N.', ''],\n",
              "   ['Kechedzhi', 'K.', ''],\n",
              "   [\"Fal'ko\", 'Vladimir I.', '']]}]"
            ]
          },
          "metadata": {},
          "execution_count": 11
        }
      ]
    },
    {
      "cell_type": "code",
      "source": [
        "# Get the number of archive records per month(update_date' atrribute)\n",
        "import datetime\n",
        "\n",
        "def extract_month(MonthIn):\n",
        "    d = datetime.datetime.strptime(MonthIn, \"%Y-%m-%d\")\n",
        "    return d.month\n",
        "\n",
        "extract_month('2003-12-13')"
      ],
      "metadata": {
        "id": "0C73zNPvdIcu",
        "outputId": "35862f33-8174-4d15-af0b-3825b0b5307f",
        "colab": {
          "base_uri": "https://localhost:8080/"
        }
      },
      "execution_count": null,
      "outputs": [
        {
          "output_type": "execute_result",
          "data": {
            "text/plain": [
              "12"
            ]
          },
          "metadata": {},
          "execution_count": 16
        }
      ]
    },
    {
      "cell_type": "code",
      "source": [
        "rdd.map(lambda x: (extract_month(x['update_date']),1)).reduceByKey(lambda x,y: x+y).collect()"
      ],
      "metadata": {
        "id": "0DdgXXPIeZIA",
        "outputId": "c149d754-ea1a-46c3-89ab-5c8e5771b48c",
        "colab": {
          "base_uri": "https://localhost:8080/"
        }
      },
      "execution_count": null,
      "outputs": [
        {
          "output_type": "execute_result",
          "data": {
            "text/plain": [
              "[(1, 134247),\n",
              " (2, 116948),\n",
              " (3, 126458),\n",
              " (4, 117126),\n",
              " (5, 296587),\n",
              " (6, 191746),\n",
              " (7, 122649),\n",
              " (8, 138469),\n",
              " (9, 138978),\n",
              " (10, 197755),\n",
              " (11, 297963),\n",
              " (12, 132305)]"
            ]
          },
          "metadata": {},
          "execution_count": 17
        }
      ]
    },
    {
      "cell_type": "code",
      "source": [
        "# Get the average number of pages\n",
        "\n",
        "#import re\n",
        "def get_Page(line):\n",
        "    search = re.findall('\\d+ pages', line)\n",
        "    if search:\n",
        "       return int(search[0].split(\" \")[0])\n",
        "    else:\n",
        "       return 0"
      ],
      "metadata": {
        "id": "854Cw0jPe28G"
      },
      "execution_count": null,
      "outputs": []
    },
    {
      "cell_type": "code",
      "source": [
        "rdd_average = rdd.map(lambda x: get_Page(x['comments'] if x['comments'] != None else \"None\"))\n",
        "\n",
        "#remove 0\n",
        "rdd_average = rdd_average.filter(lambda x: x!=0)\n",
        "\n",
        "average_counter = rdd_average.count()\n",
        "average_summation = rdd_average.reduce(lambda x,y: x+y)\n",
        "\n",
        "print(average_counter)\n",
        "print(average_summation)\n",
        "print(\"the average of pages is\", (average_summation/average_counter))"
      ],
      "metadata": {
        "id": "hyJhprWfiopu",
        "outputId": "9e3b66a9-7616-40d2-c5a4-7b5df7b7c0b3",
        "colab": {
          "base_uri": "https://localhost:8080/"
        }
      },
      "execution_count": null,
      "outputs": [
        {
          "output_type": "stream",
          "name": "stdout",
          "text": [
            "1184075\n",
            "21139516\n",
            "the average of pages is 17.85319004286046\n"
          ]
        }
      ]
    },
    {
      "cell_type": "markdown",
      "source": [
        "# **Processing Large structured data using RDD**"
      ],
      "metadata": {
        "id": "LB3HdTvR59nF"
      }
    },
    {
      "cell_type": "code",
      "source": [
        "from google.colab import drive\n",
        "drive.mount('/content/drive')"
      ],
      "metadata": {
        "id": "LpDRYM8a6Hsk",
        "colab": {
          "base_uri": "https://localhost:8080/"
        },
        "outputId": "cd97de68-63bd-4ab0-bde7-6194644783d5"
      },
      "execution_count": 33,
      "outputs": [
        {
          "output_type": "stream",
          "name": "stdout",
          "text": [
            "Drive already mounted at /content/drive; to attempt to forcibly remount, call drive.mount(\"/content/drive\", force_remount=True).\n"
          ]
        }
      ]
    },
    {
      "cell_type": "code",
      "source": [
        "#Read and load data to spark\n",
        "rdd = sc.textFile(\"/content/drive/MyDrive/kddcup.data.gz\")"
      ],
      "metadata": {
        "id": "c-a1z9BN8wb8"
      },
      "execution_count": 34,
      "outputs": []
    },
    {
      "cell_type": "code",
      "source": [
        "# Get number of partitions\n",
        "rdd = rdd.repartition(10)  #shuffle all data\n",
        "print(sc.defaultParallelism)\n",
        "print(rdd.getNumPartitions())\n",
        "\n",
        "rdd.persist()"
      ],
      "metadata": {
        "colab": {
          "base_uri": "https://localhost:8080/"
        },
        "id": "1unus_XG9TWK",
        "outputId": "45eb5c19-49f9-4cc1-a96e-da284f3123d0"
      },
      "execution_count": 15,
      "outputs": [
        {
          "output_type": "stream",
          "name": "stdout",
          "text": [
            "2\n",
            "10\n"
          ]
        },
        {
          "output_type": "execute_result",
          "data": {
            "text/plain": [
              "MapPartitionsRDD[12] at coalesce at NativeMethodAccessorImpl.java:0"
            ]
          },
          "metadata": {},
          "execution_count": 15
        }
      ]
    },
    {
      "cell_type": "code",
      "source": [
        "#Get ten records randomly\n",
        "rdd.takeSample(False, 10, 1234)"
      ],
      "metadata": {
        "colab": {
          "base_uri": "https://localhost:8080/"
        },
        "id": "1mdO3Jep-NaT",
        "outputId": "910a2f09-27fc-46fd-f05a-577ed22535dc"
      },
      "execution_count": 8,
      "outputs": [
        {
          "output_type": "execute_result",
          "data": {
            "text/plain": [
              "['0,icmp,ecr_i,SF,1032,0,0,0,0,0,0,0,0,0,0,0,0,0,0,0,0,0,511,511,0.00,0.00,0.00,0.00,1.00,0.00,0.00,255,255,1.00,0.00,1.00,0.00,0.00,0.00,0.00,0.00,smurf.',\n",
              " '1,tcp,smtp,SF,1272,364,0,0,0,0,0,1,0,0,0,0,0,0,0,0,0,0,1,3,0.00,0.00,0.00,0.00,1.00,0.00,1.00,231,124,0.54,0.03,0.00,0.00,0.00,0.00,0.00,0.00,normal.',\n",
              " '0,icmp,ecr_i,SF,1032,0,0,0,0,0,0,0,0,0,0,0,0,0,0,0,0,0,510,510,0.00,0.00,0.00,0.00,1.00,0.00,0.00,255,255,1.00,0.00,1.00,0.00,0.00,0.00,0.00,0.00,smurf.',\n",
              " '0,icmp,ecr_i,SF,1032,0,0,0,0,0,0,0,0,0,0,0,0,0,0,0,0,0,511,511,0.00,0.00,0.00,0.00,1.00,0.00,0.00,255,255,1.00,0.00,1.00,0.00,0.00,0.00,0.00,0.00,smurf.',\n",
              " '0,icmp,ecr_i,SF,1032,0,0,0,0,0,0,0,0,0,0,0,0,0,0,0,0,0,509,509,0.00,0.00,0.00,0.00,1.00,0.00,0.00,255,255,1.00,0.00,1.00,0.00,0.00,0.00,0.00,0.00,smurf.',\n",
              " '0,icmp,ecr_i,SF,1032,0,0,0,0,0,0,0,0,0,0,0,0,0,0,0,0,0,508,508,0.00,0.00,0.00,0.00,1.00,0.00,0.00,255,255,1.00,0.00,1.00,0.00,0.00,0.00,0.00,0.00,smurf.',\n",
              " '0,icmp,ecr_i,SF,1032,0,0,0,0,0,0,0,0,0,0,0,0,0,0,0,0,0,511,511,0.00,0.00,0.00,0.00,1.00,0.00,0.00,255,255,1.00,0.00,1.00,0.00,0.00,0.00,0.00,0.00,smurf.',\n",
              " '0,icmp,ecr_i,SF,1032,0,0,0,0,0,0,0,0,0,0,0,0,0,0,0,0,0,511,511,0.00,0.00,0.00,0.00,1.00,0.00,0.00,255,255,1.00,0.00,1.00,0.00,0.00,0.00,0.00,0.00,smurf.',\n",
              " '0,icmp,ecr_i,SF,1032,0,0,0,0,0,0,0,0,0,0,0,0,0,0,0,0,0,511,511,0.00,0.00,0.00,0.00,1.00,0.00,0.00,255,255,1.00,0.00,1.00,0.00,0.00,0.00,0.00,0.00,smurf.',\n",
              " '0,icmp,ecr_i,SF,520,0,0,0,0,0,0,0,0,0,0,0,0,0,0,0,0,0,511,511,0.00,0.00,0.00,0.00,1.00,0.00,0.00,255,255,1.00,0.00,1.00,0.00,0.00,0.00,0.00,0.00,smurf.']"
            ]
          },
          "metadata": {},
          "execution_count": 8
        }
      ]
    },
    {
      "cell_type": "code",
      "source": [
        "# count elements\n",
        "rdd.count()"
      ],
      "metadata": {
        "colab": {
          "base_uri": "https://localhost:8080/"
        },
        "id": "N4xm1rFhWmvK",
        "outputId": "7dc51e0f-c759-4899-cbef-f4c570f6bcdc"
      },
      "execution_count": 13,
      "outputs": [
        {
          "output_type": "execute_result",
          "data": {
            "text/plain": [
              "4898431"
            ]
          },
          "metadata": {},
          "execution_count": 13
        }
      ]
    },
    {
      "cell_type": "code",
      "source": [
        "#Calculate ratio of normal calculations\n",
        "Normal_rdd = rdd.filter(lambda line: 'normal.' in line)\n",
        "\n",
        "ratio =  (Normal_rdd.count()/rdd.count())*100\n",
        "\n",
        "print(\"the ratio of normal connections is {} %\".format(round(ratio),2))\n"
      ],
      "metadata": {
        "colab": {
          "base_uri": "https://localhost:8080/"
        },
        "id": "fjIgXl-YXsKJ",
        "outputId": "642f5a2d-c5ba-4e6f-b86e-53caaf8f2146"
      },
      "execution_count": 18,
      "outputs": [
        {
          "output_type": "stream",
          "name": "stdout",
          "text": [
            "the ratio of normal connections is 20 %\n"
          ]
        }
      ]
    },
    {
      "cell_type": "code",
      "source": [
        "# Get the list of labels\n",
        "Split_rdd = rdd.map(lambda line: line.split(\",\"))\n",
        "Label_rdd = Split_rdd.map(lambda item: item[-1]).distinct()\n",
        "Label_rdd.collect()"
      ],
      "metadata": {
        "colab": {
          "base_uri": "https://localhost:8080/"
        },
        "id": "o8e7ltrzaJj4",
        "outputId": "6e222532-66fb-4b1c-c836-43fa61f4c072"
      },
      "execution_count": 20,
      "outputs": [
        {
          "output_type": "execute_result",
          "data": {
            "text/plain": [
              "['pod.',\n",
              " 'neptune.',\n",
              " 'warezclient.',\n",
              " 'loadmodule.',\n",
              " 'smurf.',\n",
              " 'nmap.',\n",
              " 'spy.',\n",
              " 'back.',\n",
              " 'teardrop.',\n",
              " 'ipsweep.',\n",
              " 'phf.',\n",
              " 'ftp_write.',\n",
              " 'multihop.',\n",
              " 'guess_passwd.',\n",
              " 'normal.',\n",
              " 'imap.',\n",
              " 'satan.',\n",
              " 'land.',\n",
              " 'portsweep.',\n",
              " 'warezmaster.',\n",
              " 'rootkit.',\n",
              " 'perl.',\n",
              " 'buffer_overflow.']"
            ]
          },
          "metadata": {},
          "execution_count": 20
        }
      ]
    },
    {
      "cell_type": "code",
      "source": [
        "# Count of connections for each label\n",
        "def LabelCount_func(items):\n",
        "  Labels_Count = []\n",
        "  for i in items:\n",
        "    Labels_Count.append(rdd.filter(lambda line: i in line).count())"
      ],
      "metadata": {
        "id": "6_Iwzi1WdD0x"
      },
      "execution_count": 21,
      "outputs": []
    },
    {
      "cell_type": "code",
      "source": [
        "LabelCount_func(Label_rdd.collect())"
      ],
      "metadata": {
        "id": "brT7j4_6qT1c"
      },
      "execution_count": 22,
      "outputs": []
    },
    {
      "cell_type": "code",
      "source": [
        "# 2nd method in solution\n",
        "%%time\n",
        "Label_rdd_kv = Split_rdd.map(lambda x:(x[-1],1))\n",
        "Label_rdd_Reduce = Label_rdd_kv.reduceByKey(lambda a,b: a+b)\n"
      ],
      "metadata": {
        "colab": {
          "base_uri": "https://localhost:8080/"
        },
        "id": "XB9hkLd3rbu9",
        "outputId": "5f3b2212-8fe0-40aa-97ba-c93f33324255"
      },
      "execution_count": 23,
      "outputs": [
        {
          "output_type": "stream",
          "name": "stdout",
          "text": [
            "CPU times: user 7.45 ms, sys: 1.71 ms, total: 9.15 ms\n",
            "Wall time: 27.3 ms\n"
          ]
        }
      ]
    },
    {
      "cell_type": "code",
      "source": [
        "import pandas as pd\n",
        "\n",
        "keys = Label_rdd_Reduce.keys().collect()\n",
        "values = Label_rdd_Reduce.values().collect()\n",
        "\n",
        "DF_labels_kv = pd.DataFrame({'Label': keys,\n",
        "                             'Count': values})\n",
        "\n",
        "DF_labels_kv.sort_values(by=\"Count\", ascending=False)"
      ],
      "metadata": {
        "colab": {
          "base_uri": "https://localhost:8080/",
          "height": 771
        },
        "id": "tQJe3GJ3t19N",
        "outputId": "1c4568bd-68e2-4faa-a1da-7a6325aae070"
      },
      "execution_count": 26,
      "outputs": [
        {
          "output_type": "execute_result",
          "data": {
            "text/plain": [
              "               Label    Count\n",
              "4             smurf.  2807886\n",
              "1           neptune.  1072017\n",
              "14           normal.   972781\n",
              "16            satan.    15892\n",
              "9           ipsweep.    12481\n",
              "18        portsweep.    10413\n",
              "5              nmap.     2316\n",
              "7              back.     2203\n",
              "2       warezclient.     1020\n",
              "8          teardrop.      979\n",
              "0               pod.      264\n",
              "13     guess_passwd.       53\n",
              "22  buffer_overflow.       30\n",
              "17             land.       21\n",
              "19      warezmaster.       20\n",
              "15             imap.       12\n",
              "20          rootkit.       10\n",
              "3        loadmodule.        9\n",
              "11        ftp_write.        8\n",
              "12         multihop.        7\n",
              "10              phf.        4\n",
              "21             perl.        3\n",
              "6               spy.        2"
            ],
            "text/html": [
              "\n",
              "  <div id=\"df-e5d7e037-2b03-489e-ba05-8e3575e39b39\" class=\"colab-df-container\">\n",
              "    <div>\n",
              "<style scoped>\n",
              "    .dataframe tbody tr th:only-of-type {\n",
              "        vertical-align: middle;\n",
              "    }\n",
              "\n",
              "    .dataframe tbody tr th {\n",
              "        vertical-align: top;\n",
              "    }\n",
              "\n",
              "    .dataframe thead th {\n",
              "        text-align: right;\n",
              "    }\n",
              "</style>\n",
              "<table border=\"1\" class=\"dataframe\">\n",
              "  <thead>\n",
              "    <tr style=\"text-align: right;\">\n",
              "      <th></th>\n",
              "      <th>Label</th>\n",
              "      <th>Count</th>\n",
              "    </tr>\n",
              "  </thead>\n",
              "  <tbody>\n",
              "    <tr>\n",
              "      <th>4</th>\n",
              "      <td>smurf.</td>\n",
              "      <td>2807886</td>\n",
              "    </tr>\n",
              "    <tr>\n",
              "      <th>1</th>\n",
              "      <td>neptune.</td>\n",
              "      <td>1072017</td>\n",
              "    </tr>\n",
              "    <tr>\n",
              "      <th>14</th>\n",
              "      <td>normal.</td>\n",
              "      <td>972781</td>\n",
              "    </tr>\n",
              "    <tr>\n",
              "      <th>16</th>\n",
              "      <td>satan.</td>\n",
              "      <td>15892</td>\n",
              "    </tr>\n",
              "    <tr>\n",
              "      <th>9</th>\n",
              "      <td>ipsweep.</td>\n",
              "      <td>12481</td>\n",
              "    </tr>\n",
              "    <tr>\n",
              "      <th>18</th>\n",
              "      <td>portsweep.</td>\n",
              "      <td>10413</td>\n",
              "    </tr>\n",
              "    <tr>\n",
              "      <th>5</th>\n",
              "      <td>nmap.</td>\n",
              "      <td>2316</td>\n",
              "    </tr>\n",
              "    <tr>\n",
              "      <th>7</th>\n",
              "      <td>back.</td>\n",
              "      <td>2203</td>\n",
              "    </tr>\n",
              "    <tr>\n",
              "      <th>2</th>\n",
              "      <td>warezclient.</td>\n",
              "      <td>1020</td>\n",
              "    </tr>\n",
              "    <tr>\n",
              "      <th>8</th>\n",
              "      <td>teardrop.</td>\n",
              "      <td>979</td>\n",
              "    </tr>\n",
              "    <tr>\n",
              "      <th>0</th>\n",
              "      <td>pod.</td>\n",
              "      <td>264</td>\n",
              "    </tr>\n",
              "    <tr>\n",
              "      <th>13</th>\n",
              "      <td>guess_passwd.</td>\n",
              "      <td>53</td>\n",
              "    </tr>\n",
              "    <tr>\n",
              "      <th>22</th>\n",
              "      <td>buffer_overflow.</td>\n",
              "      <td>30</td>\n",
              "    </tr>\n",
              "    <tr>\n",
              "      <th>17</th>\n",
              "      <td>land.</td>\n",
              "      <td>21</td>\n",
              "    </tr>\n",
              "    <tr>\n",
              "      <th>19</th>\n",
              "      <td>warezmaster.</td>\n",
              "      <td>20</td>\n",
              "    </tr>\n",
              "    <tr>\n",
              "      <th>15</th>\n",
              "      <td>imap.</td>\n",
              "      <td>12</td>\n",
              "    </tr>\n",
              "    <tr>\n",
              "      <th>20</th>\n",
              "      <td>rootkit.</td>\n",
              "      <td>10</td>\n",
              "    </tr>\n",
              "    <tr>\n",
              "      <th>3</th>\n",
              "      <td>loadmodule.</td>\n",
              "      <td>9</td>\n",
              "    </tr>\n",
              "    <tr>\n",
              "      <th>11</th>\n",
              "      <td>ftp_write.</td>\n",
              "      <td>8</td>\n",
              "    </tr>\n",
              "    <tr>\n",
              "      <th>12</th>\n",
              "      <td>multihop.</td>\n",
              "      <td>7</td>\n",
              "    </tr>\n",
              "    <tr>\n",
              "      <th>10</th>\n",
              "      <td>phf.</td>\n",
              "      <td>4</td>\n",
              "    </tr>\n",
              "    <tr>\n",
              "      <th>21</th>\n",
              "      <td>perl.</td>\n",
              "      <td>3</td>\n",
              "    </tr>\n",
              "    <tr>\n",
              "      <th>6</th>\n",
              "      <td>spy.</td>\n",
              "      <td>2</td>\n",
              "    </tr>\n",
              "  </tbody>\n",
              "</table>\n",
              "</div>\n",
              "    <div class=\"colab-df-buttons\">\n",
              "\n",
              "  <div class=\"colab-df-container\">\n",
              "    <button class=\"colab-df-convert\" onclick=\"convertToInteractive('df-e5d7e037-2b03-489e-ba05-8e3575e39b39')\"\n",
              "            title=\"Convert this dataframe to an interactive table.\"\n",
              "            style=\"display:none;\">\n",
              "\n",
              "  <svg xmlns=\"http://www.w3.org/2000/svg\" height=\"24px\" viewBox=\"0 -960 960 960\">\n",
              "    <path d=\"M120-120v-720h720v720H120Zm60-500h600v-160H180v160Zm220 220h160v-160H400v160Zm0 220h160v-160H400v160ZM180-400h160v-160H180v160Zm440 0h160v-160H620v160ZM180-180h160v-160H180v160Zm440 0h160v-160H620v160Z\"/>\n",
              "  </svg>\n",
              "    </button>\n",
              "\n",
              "  <style>\n",
              "    .colab-df-container {\n",
              "      display:flex;\n",
              "      gap: 12px;\n",
              "    }\n",
              "\n",
              "    .colab-df-convert {\n",
              "      background-color: #E8F0FE;\n",
              "      border: none;\n",
              "      border-radius: 50%;\n",
              "      cursor: pointer;\n",
              "      display: none;\n",
              "      fill: #1967D2;\n",
              "      height: 32px;\n",
              "      padding: 0 0 0 0;\n",
              "      width: 32px;\n",
              "    }\n",
              "\n",
              "    .colab-df-convert:hover {\n",
              "      background-color: #E2EBFA;\n",
              "      box-shadow: 0px 1px 2px rgba(60, 64, 67, 0.3), 0px 1px 3px 1px rgba(60, 64, 67, 0.15);\n",
              "      fill: #174EA6;\n",
              "    }\n",
              "\n",
              "    .colab-df-buttons div {\n",
              "      margin-bottom: 4px;\n",
              "    }\n",
              "\n",
              "    [theme=dark] .colab-df-convert {\n",
              "      background-color: #3B4455;\n",
              "      fill: #D2E3FC;\n",
              "    }\n",
              "\n",
              "    [theme=dark] .colab-df-convert:hover {\n",
              "      background-color: #434B5C;\n",
              "      box-shadow: 0px 1px 3px 1px rgba(0, 0, 0, 0.15);\n",
              "      filter: drop-shadow(0px 1px 2px rgba(0, 0, 0, 0.3));\n",
              "      fill: #FFFFFF;\n",
              "    }\n",
              "  </style>\n",
              "\n",
              "    <script>\n",
              "      const buttonEl =\n",
              "        document.querySelector('#df-e5d7e037-2b03-489e-ba05-8e3575e39b39 button.colab-df-convert');\n",
              "      buttonEl.style.display =\n",
              "        google.colab.kernel.accessAllowed ? 'block' : 'none';\n",
              "\n",
              "      async function convertToInteractive(key) {\n",
              "        const element = document.querySelector('#df-e5d7e037-2b03-489e-ba05-8e3575e39b39');\n",
              "        const dataTable =\n",
              "          await google.colab.kernel.invokeFunction('convertToInteractive',\n",
              "                                                    [key], {});\n",
              "        if (!dataTable) return;\n",
              "\n",
              "        const docLinkHtml = 'Like what you see? Visit the ' +\n",
              "          '<a target=\"_blank\" href=https://colab.research.google.com/notebooks/data_table.ipynb>data table notebook</a>'\n",
              "          + ' to learn more about interactive tables.';\n",
              "        element.innerHTML = '';\n",
              "        dataTable['output_type'] = 'display_data';\n",
              "        await google.colab.output.renderOutput(dataTable, element);\n",
              "        const docLink = document.createElement('div');\n",
              "        docLink.innerHTML = docLinkHtml;\n",
              "        element.appendChild(docLink);\n",
              "      }\n",
              "    </script>\n",
              "  </div>\n",
              "\n",
              "\n",
              "<div id=\"df-978c3b04-2589-49ba-9c79-766194e0cd0b\">\n",
              "  <button class=\"colab-df-quickchart\" onclick=\"quickchart('df-978c3b04-2589-49ba-9c79-766194e0cd0b')\"\n",
              "            title=\"Suggest charts\"\n",
              "            style=\"display:none;\">\n",
              "\n",
              "<svg xmlns=\"http://www.w3.org/2000/svg\" height=\"24px\"viewBox=\"0 0 24 24\"\n",
              "     width=\"24px\">\n",
              "    <g>\n",
              "        <path d=\"M19 3H5c-1.1 0-2 .9-2 2v14c0 1.1.9 2 2 2h14c1.1 0 2-.9 2-2V5c0-1.1-.9-2-2-2zM9 17H7v-7h2v7zm4 0h-2V7h2v10zm4 0h-2v-4h2v4z\"/>\n",
              "    </g>\n",
              "</svg>\n",
              "  </button>\n",
              "\n",
              "<style>\n",
              "  .colab-df-quickchart {\n",
              "      --bg-color: #E8F0FE;\n",
              "      --fill-color: #1967D2;\n",
              "      --hover-bg-color: #E2EBFA;\n",
              "      --hover-fill-color: #174EA6;\n",
              "      --disabled-fill-color: #AAA;\n",
              "      --disabled-bg-color: #DDD;\n",
              "  }\n",
              "\n",
              "  [theme=dark] .colab-df-quickchart {\n",
              "      --bg-color: #3B4455;\n",
              "      --fill-color: #D2E3FC;\n",
              "      --hover-bg-color: #434B5C;\n",
              "      --hover-fill-color: #FFFFFF;\n",
              "      --disabled-bg-color: #3B4455;\n",
              "      --disabled-fill-color: #666;\n",
              "  }\n",
              "\n",
              "  .colab-df-quickchart {\n",
              "    background-color: var(--bg-color);\n",
              "    border: none;\n",
              "    border-radius: 50%;\n",
              "    cursor: pointer;\n",
              "    display: none;\n",
              "    fill: var(--fill-color);\n",
              "    height: 32px;\n",
              "    padding: 0;\n",
              "    width: 32px;\n",
              "  }\n",
              "\n",
              "  .colab-df-quickchart:hover {\n",
              "    background-color: var(--hover-bg-color);\n",
              "    box-shadow: 0 1px 2px rgba(60, 64, 67, 0.3), 0 1px 3px 1px rgba(60, 64, 67, 0.15);\n",
              "    fill: var(--button-hover-fill-color);\n",
              "  }\n",
              "\n",
              "  .colab-df-quickchart-complete:disabled,\n",
              "  .colab-df-quickchart-complete:disabled:hover {\n",
              "    background-color: var(--disabled-bg-color);\n",
              "    fill: var(--disabled-fill-color);\n",
              "    box-shadow: none;\n",
              "  }\n",
              "\n",
              "  .colab-df-spinner {\n",
              "    border: 2px solid var(--fill-color);\n",
              "    border-color: transparent;\n",
              "    border-bottom-color: var(--fill-color);\n",
              "    animation:\n",
              "      spin 1s steps(1) infinite;\n",
              "  }\n",
              "\n",
              "  @keyframes spin {\n",
              "    0% {\n",
              "      border-color: transparent;\n",
              "      border-bottom-color: var(--fill-color);\n",
              "      border-left-color: var(--fill-color);\n",
              "    }\n",
              "    20% {\n",
              "      border-color: transparent;\n",
              "      border-left-color: var(--fill-color);\n",
              "      border-top-color: var(--fill-color);\n",
              "    }\n",
              "    30% {\n",
              "      border-color: transparent;\n",
              "      border-left-color: var(--fill-color);\n",
              "      border-top-color: var(--fill-color);\n",
              "      border-right-color: var(--fill-color);\n",
              "    }\n",
              "    40% {\n",
              "      border-color: transparent;\n",
              "      border-right-color: var(--fill-color);\n",
              "      border-top-color: var(--fill-color);\n",
              "    }\n",
              "    60% {\n",
              "      border-color: transparent;\n",
              "      border-right-color: var(--fill-color);\n",
              "    }\n",
              "    80% {\n",
              "      border-color: transparent;\n",
              "      border-right-color: var(--fill-color);\n",
              "      border-bottom-color: var(--fill-color);\n",
              "    }\n",
              "    90% {\n",
              "      border-color: transparent;\n",
              "      border-bottom-color: var(--fill-color);\n",
              "    }\n",
              "  }\n",
              "</style>\n",
              "\n",
              "  <script>\n",
              "    async function quickchart(key) {\n",
              "      const quickchartButtonEl =\n",
              "        document.querySelector('#' + key + ' button');\n",
              "      quickchartButtonEl.disabled = true;  // To prevent multiple clicks.\n",
              "      quickchartButtonEl.classList.add('colab-df-spinner');\n",
              "      try {\n",
              "        const charts = await google.colab.kernel.invokeFunction(\n",
              "            'suggestCharts', [key], {});\n",
              "      } catch (error) {\n",
              "        console.error('Error during call to suggestCharts:', error);\n",
              "      }\n",
              "      quickchartButtonEl.classList.remove('colab-df-spinner');\n",
              "      quickchartButtonEl.classList.add('colab-df-quickchart-complete');\n",
              "    }\n",
              "    (() => {\n",
              "      let quickchartButtonEl =\n",
              "        document.querySelector('#df-978c3b04-2589-49ba-9c79-766194e0cd0b button');\n",
              "      quickchartButtonEl.style.display =\n",
              "        google.colab.kernel.accessAllowed ? 'block' : 'none';\n",
              "    })();\n",
              "  </script>\n",
              "</div>\n",
              "\n",
              "    </div>\n",
              "  </div>\n"
            ],
            "application/vnd.google.colaboratory.intrinsic+json": {
              "type": "dataframe",
              "summary": "{\n  \"name\": \"DF_labels_kv\",\n  \"rows\": 23,\n  \"fields\": [\n    {\n      \"column\": \"Label\",\n      \"properties\": {\n        \"dtype\": \"string\",\n        \"num_unique_values\": 23,\n        \"samples\": [\n          \"imap.\",\n          \"teardrop.\",\n          \"smurf.\"\n        ],\n        \"semantic_type\": \"\",\n        \"description\": \"\"\n      }\n    },\n    {\n      \"column\": \"Count\",\n      \"properties\": {\n        \"dtype\": \"number\",\n        \"std\": 637360,\n        \"min\": 2,\n        \"max\": 2807886,\n        \"num_unique_values\": 23,\n        \"samples\": [\n          12,\n          979,\n          2807886\n        ],\n        \"semantic_type\": \"\",\n        \"description\": \"\"\n      }\n    }\n  ]\n}"
            }
          },
          "metadata": {},
          "execution_count": 26
        }
      ]
    },
    {
      "cell_type": "code",
      "source": [
        "Split_rdd.filter(lambda x: x[13] == '1')\\\n",
        "         .map(lambda x: (x[1], x[4], x[5]))\\\n",
        "         .filter(lambda x: int(x[2])> int(x[1])*500)\\\n",
        "         .collect()"
      ],
      "metadata": {
        "colab": {
          "base_uri": "https://localhost:8080/"
        },
        "id": "aINFn2DnwZhr",
        "outputId": "df23d276-9943-444f-e861-0506fddfcc95"
      },
      "execution_count": 35,
      "outputs": [
        {
          "output_type": "execute_result",
          "data": {
            "text/plain": [
              "[('tcp', '296', '507534'),\n",
              " ('tcp', '296', '507534'),\n",
              " ('tcp', '246', '866032'),\n",
              " ('tcp', '317', '394616'),\n",
              " ('tcp', '262', '744605'),\n",
              " ('tcp', '173', '744605'),\n",
              " ('tcp', '224', '2776333'),\n",
              " ('tcp', '262', '744605'),\n",
              " ('tcp', '0', '2072'),\n",
              " ('tcp', '351', '759161'),\n",
              " ('tcp', '1794', '3851730'),\n",
              " ('tcp', '465', '320362'),\n",
              " ('tcp', '0', '2072'),\n",
              " ('tcp', '0', '2072'),\n",
              " ('tcp', '296', '507534'),\n",
              " ('tcp', '266', '507534'),\n",
              " ('tcp', '255', '574784'),\n",
              " ('tcp', '0', '2072'),\n",
              " ('tcp', '353', '759161'),\n",
              " ('tcp', '433', '1524348')]"
            ]
          },
          "metadata": {},
          "execution_count": 35
        }
      ]
    },
    {
      "cell_type": "code",
      "source": [
        "# Get the list of protocols that are vulnerable to attacks, where there is NOT guest login to the destination addresses\n",
        "\n",
        "normal_protocols_rdd = Split_rdd.filter(lambda line: \"normal\" in line[-1] and line[21] !='1')\\\n",
        "                                .map(lambda line: (line[1], 1)).reduceByKey(lambda x,y: x+y)\n",
        "\n",
        "attack_protocols_rdd = Split_rdd.filter(lambda line: \"normal\" not in line[-1] and line[21] !='1')\\\n",
        "                                .map(lambda line: (line[1], 1)).reduceByKey(lambda x,y: x+y)\n",
        "\n",
        "normal_keyvalue = pd.DataFrame({'Label': normal_protocols_rdd.keys().collect(),\n",
        "                                'State': 'normal',\n",
        "                                'Count': normal_protocols_rdd.values().collect()})\n",
        "\n",
        "attack_keyvalue = pd.DataFrame({'Label': attack_protocols_rdd.keys().collect(),\n",
        "                                'State': 'normal',\n",
        "                                'Count': normal_protocols_rdd.values().collect()})\n",
        "\n",
        "results = normal_keyvalue.append(attack_keyvalue)\n",
        "results.sort_values(by='Label', ascending=False)"
      ],
      "metadata": {
        "colab": {
          "base_uri": "https://localhost:8080/",
          "height": 315
        },
        "id": "5mgw04iAyjW8",
        "outputId": "e6efde7a-cb5d-4642-de33-d51cfd14672f"
      },
      "execution_count": 36,
      "outputs": [
        {
          "output_type": "error",
          "ename": "AttributeError",
          "evalue": "'DataFrame' object has no attribute 'append'",
          "traceback": [
            "\u001b[0;31m---------------------------------------------------------------------------\u001b[0m",
            "\u001b[0;31mAttributeError\u001b[0m                            Traceback (most recent call last)",
            "\u001b[0;32m<ipython-input-36-8792563a4890>\u001b[0m in \u001b[0;36m<cell line: 17>\u001b[0;34m()\u001b[0m\n\u001b[1;32m     15\u001b[0m                                 'Count': normal_protocols_rdd.values().collect()})\n\u001b[1;32m     16\u001b[0m \u001b[0;34m\u001b[0m\u001b[0m\n\u001b[0;32m---> 17\u001b[0;31m \u001b[0mresults\u001b[0m \u001b[0;34m=\u001b[0m \u001b[0mnormal_keyvalue\u001b[0m\u001b[0;34m.\u001b[0m\u001b[0mappend\u001b[0m\u001b[0;34m(\u001b[0m\u001b[0mattack_keyvalue\u001b[0m\u001b[0;34m)\u001b[0m\u001b[0;34m\u001b[0m\u001b[0;34m\u001b[0m\u001b[0m\n\u001b[0m\u001b[1;32m     18\u001b[0m \u001b[0mresults\u001b[0m\u001b[0;34m.\u001b[0m\u001b[0msort_values\u001b[0m\u001b[0;34m(\u001b[0m\u001b[0mby\u001b[0m\u001b[0;34m=\u001b[0m\u001b[0;34m'Label'\u001b[0m\u001b[0;34m,\u001b[0m \u001b[0mascending\u001b[0m\u001b[0;34m=\u001b[0m\u001b[0;32mFalse\u001b[0m\u001b[0;34m)\u001b[0m\u001b[0;34m\u001b[0m\u001b[0;34m\u001b[0m\u001b[0m\n",
            "\u001b[0;32m/usr/local/lib/python3.10/dist-packages/pandas/core/generic.py\u001b[0m in \u001b[0;36m__getattr__\u001b[0;34m(self, name)\u001b[0m\n\u001b[1;32m   5987\u001b[0m         ):\n\u001b[1;32m   5988\u001b[0m             \u001b[0;32mreturn\u001b[0m \u001b[0mself\u001b[0m\u001b[0;34m[\u001b[0m\u001b[0mname\u001b[0m\u001b[0;34m]\u001b[0m\u001b[0;34m\u001b[0m\u001b[0;34m\u001b[0m\u001b[0m\n\u001b[0;32m-> 5989\u001b[0;31m         \u001b[0;32mreturn\u001b[0m \u001b[0mobject\u001b[0m\u001b[0;34m.\u001b[0m\u001b[0m__getattribute__\u001b[0m\u001b[0;34m(\u001b[0m\u001b[0mself\u001b[0m\u001b[0;34m,\u001b[0m \u001b[0mname\u001b[0m\u001b[0;34m)\u001b[0m\u001b[0;34m\u001b[0m\u001b[0;34m\u001b[0m\u001b[0m\n\u001b[0m\u001b[1;32m   5990\u001b[0m \u001b[0;34m\u001b[0m\u001b[0m\n\u001b[1;32m   5991\u001b[0m     \u001b[0;32mdef\u001b[0m \u001b[0m__setattr__\u001b[0m\u001b[0;34m(\u001b[0m\u001b[0mself\u001b[0m\u001b[0;34m,\u001b[0m \u001b[0mname\u001b[0m\u001b[0;34m:\u001b[0m \u001b[0mstr\u001b[0m\u001b[0;34m,\u001b[0m \u001b[0mvalue\u001b[0m\u001b[0;34m)\u001b[0m \u001b[0;34m->\u001b[0m \u001b[0;32mNone\u001b[0m\u001b[0;34m:\u001b[0m\u001b[0;34m\u001b[0m\u001b[0;34m\u001b[0m\u001b[0m\n",
            "\u001b[0;31mAttributeError\u001b[0m: 'DataFrame' object has no attribute 'append'"
          ]
        }
      ]
    },
    {
      "cell_type": "code",
      "source": [
        "# Get a summary statistics for the sum of tcp connections to the same destination IP\n",
        "from pyspark.mllib.stat import Statistics\n",
        "from math import sqrt\n",
        "\n",
        "summary = Statistics.colStats(Split_rdd.filter(lambda line: line[1] == \"tcp\").map(lambda line: [int(line[31])]))\n",
        "\n",
        "tcp_mean = round(float(summary.mean()),3)\n",
        "tcp_std = round(float(sqrt(summary.variance())),3)\n",
        "tcp_min = round(float(summary.min()),3)\n",
        "tcp_max = round(float(summary.max()),3)\n",
        "\n",
        "print([tcp_mean, tcp_std, tcp_min, tcp_max])"
      ],
      "metadata": {
        "colab": {
          "base_uri": "https://localhost:8080/"
        },
        "id": "793AIvH956Lb",
        "outputId": "bc674fac-96b1-4700-eda9-a66713e266ed"
      },
      "execution_count": 37,
      "outputs": [
        {
          "output_type": "stream",
          "name": "stdout",
          "text": [
            "[201.752, 90.726, 0.0, 255.0]\n"
          ]
        },
        {
          "output_type": "stream",
          "name": "stderr",
          "text": [
            "<ipython-input-37-ef8cd3912c40>:7: DeprecationWarning: Conversion of an array with ndim > 0 to a scalar is deprecated, and will error in future. Ensure you extract a single element from your array before performing this operation. (Deprecated NumPy 1.25.)\n",
            "  tcp_mean = round(float(summary.mean()),3)\n",
            "<ipython-input-37-ef8cd3912c40>:8: DeprecationWarning: Conversion of an array with ndim > 0 to a scalar is deprecated, and will error in future. Ensure you extract a single element from your array before performing this operation. (Deprecated NumPy 1.25.)\n",
            "  tcp_std = round(float(sqrt(summary.variance())),3)\n",
            "<ipython-input-37-ef8cd3912c40>:9: DeprecationWarning: Conversion of an array with ndim > 0 to a scalar is deprecated, and will error in future. Ensure you extract a single element from your array before performing this operation. (Deprecated NumPy 1.25.)\n",
            "  tcp_min = round(float(summary.min()),3)\n",
            "<ipython-input-37-ef8cd3912c40>:10: DeprecationWarning: Conversion of an array with ndim > 0 to a scalar is deprecated, and will error in future. Ensure you extract a single element from your array before performing this operation. (Deprecated NumPy 1.25.)\n",
            "  tcp_max = round(float(summary.max()),3)\n"
          ]
        }
      ]
    }
  ]
}