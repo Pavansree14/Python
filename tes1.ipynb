{
  "nbformat": 4,
  "nbformat_minor": 0,
  "metadata": {
    "colab": {
      "provenance": [],
      "authorship_tag": "ABX9TyOYxmq7lWfgTp7M+0YnmZ06",
      "include_colab_link": true
    },
    "kernelspec": {
      "name": "python3",
      "display_name": "Python 3"
    },
    "language_info": {
      "name": "python"
    }
  },
  "cells": [
    {
      "cell_type": "markdown",
      "metadata": {
        "id": "view-in-github",
        "colab_type": "text"
      },
      "source": [
        "<a href=\"https://colab.research.google.com/github/Pavansree14/Python/blob/Pyspark_advanced/tes1.ipynb\" target=\"_parent\"><img src=\"https://colab.research.google.com/assets/colab-badge.svg\" alt=\"Open In Colab\"/></a>"
      ]
    },
    {
      "cell_type": "code",
      "execution_count": 3,
      "metadata": {
        "colab": {
          "base_uri": "https://localhost:8080/"
        },
        "id": "28jUoKovsIij",
        "outputId": "94189eed-588d-4abd-c575-0177edd1907d"
      },
      "outputs": [
        {
          "output_type": "stream",
          "name": "stdout",
          "text": [
            "Collecting pyspark\n",
            "  Downloading pyspark-3.5.1.tar.gz (317.0 MB)\n",
            "\u001b[2K     \u001b[90m━━━━━━━━━━━━━━━━━━━━━━━━━━━━━━━━━━━━━━━━\u001b[0m \u001b[32m317.0/317.0 MB\u001b[0m \u001b[31m2.8 MB/s\u001b[0m eta \u001b[36m0:00:00\u001b[0m\n",
            "\u001b[?25h  Preparing metadata (setup.py) ... \u001b[?25l\u001b[?25hdone\n",
            "Requirement already satisfied: py4j==0.10.9.7 in /usr/local/lib/python3.10/dist-packages (from pyspark) (0.10.9.7)\n",
            "Building wheels for collected packages: pyspark\n",
            "  Building wheel for pyspark (setup.py) ... \u001b[?25l\u001b[?25hdone\n",
            "  Created wheel for pyspark: filename=pyspark-3.5.1-py2.py3-none-any.whl size=317488491 sha256=0d1e102bf64967c65388c7325e48740838dfc07a129e560199292aa61a99fa2b\n",
            "  Stored in directory: /root/.cache/pip/wheels/80/1d/60/2c256ed38dddce2fdd93be545214a63e02fbd8d74fb0b7f3a6\n",
            "Successfully built pyspark\n",
            "Installing collected packages: pyspark\n",
            "Successfully installed pyspark-3.5.1\n"
          ]
        }
      ],
      "source": [
        "!pip3 install pyspark"
      ]
    },
    {
      "cell_type": "code",
      "source": [
        "from pyspark import SparkContext, SparkConf"
      ],
      "metadata": {
        "id": "7-JnQnzcw462"
      },
      "execution_count": 7,
      "outputs": []
    },
    {
      "cell_type": "code",
      "source": [
        "conf = SparkConf().setAppName(\"testApp1\").setMaster(\"local[*]\")\n",
        "sc = SparkContext(conf=conf)"
      ],
      "metadata": {
        "id": "kzw7zgcoxZCE"
      },
      "execution_count": 15,
      "outputs": []
    },
    {
      "cell_type": "code",
      "source": [
        "print(sc)"
      ],
      "metadata": {
        "colab": {
          "base_uri": "https://localhost:8080/"
        },
        "id": "Ry5e8lPNyQoU",
        "outputId": "b17f6765-4564-4485-d2a0-4464bb951d45"
      },
      "execution_count": 16,
      "outputs": [
        {
          "output_type": "stream",
          "name": "stdout",
          "text": [
            "<SparkContext master=local[*] appName=testApp1>\n"
          ]
        }
      ]
    },
    {
      "cell_type": "code",
      "source": [
        "import random\n",
        "randomlist  = random.sample(range(0,40),10)\n",
        "print(randomlist)"
      ],
      "metadata": {
        "colab": {
          "base_uri": "https://localhost:8080/"
        },
        "id": "GhvqgmnyyVhg",
        "outputId": "e9534052-a0e8-45e1-c6f3-0ddcb1f3c667"
      },
      "execution_count": 9,
      "outputs": [
        {
          "output_type": "stream",
          "name": "stdout",
          "text": [
            "[25, 8, 18, 29, 32, 22, 26, 10, 16, 33]\n"
          ]
        }
      ]
    },
    {
      "cell_type": "code",
      "source": [
        "rdd1 = sc.parallelize(randomlist, 4)\n",
        "\n",
        "rdd1.collect()"
      ],
      "metadata": {
        "colab": {
          "base_uri": "https://localhost:8080/"
        },
        "id": "eSC_QUtT5s9d",
        "outputId": "e9d0aeff-fc88-4f8c-f3b4-75766d3b6961"
      },
      "execution_count": 17,
      "outputs": [
        {
          "output_type": "execute_result",
          "data": {
            "text/plain": [
              "[25, 8, 18, 29, 32, 22, 26, 10, 16, 33]"
            ]
          },
          "metadata": {},
          "execution_count": 17
        }
      ]
    },
    {
      "cell_type": "code",
      "source": [
        "rdd1.getNumPartitions()"
      ],
      "metadata": {
        "colab": {
          "base_uri": "https://localhost:8080/"
        },
        "id": "MzYek_T58aY8",
        "outputId": "5037f960-9ccf-4320-b725-4db7cdef734f"
      },
      "execution_count": 21,
      "outputs": [
        {
          "output_type": "execute_result",
          "data": {
            "text/plain": [
              "4"
            ]
          },
          "metadata": {},
          "execution_count": 21
        }
      ]
    },
    {
      "cell_type": "code",
      "source": [
        "print(rdd1.glom().collect())"
      ],
      "metadata": {
        "colab": {
          "base_uri": "https://localhost:8080/"
        },
        "id": "xVsaZWEo8pPf",
        "outputId": "9905c9f3-d65e-4b64-99f5-4fdc6a9e6640"
      },
      "execution_count": 22,
      "outputs": [
        {
          "output_type": "stream",
          "name": "stdout",
          "text": [
            "[[25, 8], [18, 29], [32, 22], [26, 10, 16, 33]]\n"
          ]
        }
      ]
    },
    {
      "cell_type": "code",
      "source": [
        "rdd_map = rdd1.map(lambda item: (item + 1)*3)\n",
        "rdd_map.collect()"
      ],
      "metadata": {
        "colab": {
          "base_uri": "https://localhost:8080/"
        },
        "id": "ihbrSY7B9FIR",
        "outputId": "057a4bd3-e3c5-4662-ffd1-d89478268afe"
      },
      "execution_count": 23,
      "outputs": [
        {
          "output_type": "execute_result",
          "data": {
            "text/plain": [
              "[78, 27, 57, 90, 99, 69, 81, 33, 51, 102]"
            ]
          },
          "metadata": {},
          "execution_count": 23
        }
      ]
    },
    {
      "cell_type": "code",
      "source": [
        "print(rdd_map.glom().collect())"
      ],
      "metadata": {
        "colab": {
          "base_uri": "https://localhost:8080/"
        },
        "id": "0GU2W5p0_1Ly",
        "outputId": "b8be5aad-39f3-4eb0-8ad6-8746dc1be589"
      },
      "execution_count": 24,
      "outputs": [
        {
          "output_type": "stream",
          "name": "stdout",
          "text": [
            "[[78, 27], [57, 90], [99, 69], [81, 33, 51, 102]]\n"
          ]
        }
      ]
    },
    {
      "cell_type": "code",
      "source": [
        "rdd_filter = rdd1.filter(lambda x: x%3 == 0)\n",
        "rdd_filter.collect()"
      ],
      "metadata": {
        "colab": {
          "base_uri": "https://localhost:8080/"
        },
        "id": "aUwrIJFv_-Zu",
        "outputId": "a20ae427-7699-40e7-e343-e45a4dd3f7b7"
      },
      "execution_count": 25,
      "outputs": [
        {
          "output_type": "execute_result",
          "data": {
            "text/plain": [
              "[18, 33]"
            ]
          },
          "metadata": {},
          "execution_count": 25
        }
      ]
    },
    {
      "cell_type": "code",
      "source": [
        "(rdd_filter.glom().collect())"
      ],
      "metadata": {
        "colab": {
          "base_uri": "https://localhost:8080/"
        },
        "id": "TtabzIgFA7hF",
        "outputId": "0e619288-e583-4085-ba56-9c16873e69fe"
      },
      "execution_count": 26,
      "outputs": [
        {
          "output_type": "execute_result",
          "data": {
            "text/plain": [
              "[[], [18], [], [33]]"
            ]
          },
          "metadata": {},
          "execution_count": 26
        }
      ]
    },
    {
      "cell_type": "code",
      "source": [
        "#union\n",
        "print(rdd1.collect())\n",
        "\n",
        "rdd2 = sc.parallelize([14,20,28,30,24,86,32,22],2)\n",
        "rdd2.collect()\n",
        "rdd_union = rdd1.union(rdd2)\n",
        "print(rdd_union.collect())\n",
        "\n",
        "print(rdd_union.getNumPartitions())"
      ],
      "metadata": {
        "id": "_K5oeqKzBp3Q",
        "outputId": "32c7a79c-f954-4084-8932-d69979efd786",
        "colab": {
          "base_uri": "https://localhost:8080/"
        }
      },
      "execution_count": 32,
      "outputs": [
        {
          "output_type": "stream",
          "name": "stdout",
          "text": [
            "[25, 8, 18, 29, 32, 22, 26, 10, 16, 33]\n",
            "[25, 8, 18, 29, 32, 22, 26, 10, 16, 33, 14, 20, 28, 30, 24, 86, 32, 22]\n",
            "6\n"
          ]
        }
      ]
    },
    {
      "cell_type": "code",
      "source": [
        "#Intersection\n",
        "rdd_intersection = rdd1.intersection(rdd2)\n",
        "print(rdd_intersection.collect())\n",
        "print(rdd_intersection.getNumPartitions())\n",
        "rdd_intersection.glom().collect()"
      ],
      "metadata": {
        "id": "CCoMkuAXQppa",
        "outputId": "1c06b98a-76fb-43ca-f613-ffd57a49ad4e",
        "colab": {
          "base_uri": "https://localhost:8080/"
        }
      },
      "execution_count": 41,
      "outputs": [
        {
          "output_type": "stream",
          "name": "stdout",
          "text": [
            "[32, 22]\n",
            "6\n"
          ]
        },
        {
          "output_type": "execute_result",
          "data": {
            "text/plain": [
              "[[], [], [32], [], [22], []]"
            ]
          },
          "metadata": {},
          "execution_count": 41
        }
      ]
    },
    {
      "cell_type": "code",
      "source": [
        "#find empty partitions\n",
        "counter = 0\n",
        "for item in rdd_intersection.glom().collect():\n",
        "    if len(item) == 0:\n",
        "      counter = counter + 1\n",
        "\n",
        "counter\n"
      ],
      "metadata": {
        "id": "2IZnLfbdWQT8",
        "outputId": "922fc9de-53a8-4420-d058-0f15df345ba2",
        "colab": {
          "base_uri": "https://localhost:8080/"
        }
      },
      "execution_count": 44,
      "outputs": [
        {
          "output_type": "execute_result",
          "data": {
            "text/plain": [
              "4"
            ]
          },
          "metadata": {},
          "execution_count": 44
        }
      ]
    },
    {
      "cell_type": "code",
      "source": [
        "#coalesce(num of partitions)--reduce the size of partitions\n",
        "rdd_intersection.coalesce(1).glom().collect()"
      ],
      "metadata": {
        "id": "FgDHu46lXaA-",
        "outputId": "f52f1ba2-598e-4eeb-ddcb-d0311e3d20b3",
        "colab": {
          "base_uri": "https://localhost:8080/"
        }
      },
      "execution_count": 45,
      "outputs": [
        {
          "output_type": "execute_result",
          "data": {
            "text/plain": [
              "[[32, 22]]"
            ]
          },
          "metadata": {},
          "execution_count": 45
        }
      ]
    },
    {
      "cell_type": "code",
      "source": [
        "#takesample(withReplacement, num, [seed])\n"
      ],
      "metadata": {
        "id": "RTC-mdKuaaZX"
      },
      "execution_count": null,
      "outputs": []
    }
  ]
}